{
 "cells": [
  {
   "cell_type": "markdown",
   "id": "86492ede",
   "metadata": {},
   "source": [
    "# <center> Assignment 4</center>\n",
    "\n",
    "### 2020136082 오준혁"
   ]
  },
  {
   "cell_type": "markdown",
   "id": "ef3caa3f",
   "metadata": {},
   "source": [
    "### 1. 다음 문제를 읽고 알맞은 코드를 제시하시오."
   ]
  },
  {
   "cell_type": "markdown",
   "id": "5a2a59a2",
   "metadata": {},
   "source": [
    "- 1. 파일 s.txt 내의 다음 내용과 함께 아래 문제의 코드를 제시하시오."
   ]
  },
  {
   "cell_type": "code",
   "execution_count": 1,
   "id": "e2eab3a3",
   "metadata": {},
   "outputs": [
    {
     "name": "stdout",
     "output_type": "stream",
     "text": [
      "pig ham\n",
      "cat dog\n",
      "ham bird\n",
      "dog pig\n"
     ]
    }
   ],
   "source": [
    "f = open(\"s.txt\",\"w\")\n",
    "f.write('pig ham\\ncat dog\\nham bird\\ndog pig') # 그대로 파일에 넣어줌\n",
    "f.close()\n",
    "f = open('s.txt','r')\n",
    "print(f.read())\n",
    "f.close()"
   ]
  },
  {
   "cell_type": "markdown",
   "id": "af2d07af",
   "metadata": {},
   "source": [
    "제시되어 있는 예시 그대로 파일에 문자열 형태로 집어넣고 출력시켜주었다."
   ]
  },
  {
   "cell_type": "markdown",
   "id": "14325e78",
   "metadata": {},
   "source": [
    "- 2. 파일 s.txt을 읽어서 각 라인에 있는 첫 번째 단어(문자열) 자체들을 기준으로 라인별 정렬후 파일 s1.txt에 그 결과를 기록하는 코드를 작성하시오. 즉, 프로그램 수행 후 s1.txt에 있는 파일 내용은 다음과 같다."
   ]
  },
  {
   "cell_type": "code",
   "execution_count": 2,
   "id": "67edff32",
   "metadata": {},
   "outputs": [
    {
     "name": "stdout",
     "output_type": "stream",
     "text": [
      "cat dog\n",
      "dog pig\n",
      "ham bird\n",
      "pig ham\n"
     ]
    }
   ],
   "source": [
    "f = open('s.txt','r')\n",
    "s=' '\n",
    "list_s = []\n",
    "while True: # s.txt에서 뽑은 문자열을 list_s에 순서대로 넣어준다.\n",
    "    s = f.readline()\n",
    "    s = s.rstrip('\\n')\n",
    "    if not s:\n",
    "        break\n",
    "    list_s.append(s)\n",
    "list_s.sort() # 정렬\n",
    "f.close()\n",
    "f = open('s1.txt','w') \n",
    "for i in range(len(list_s)): # list_s를 순서대로 s1.txt파일에 넣어준다.\n",
    "    if i == len(list_s)-1:\n",
    "        f.write(list_s[i])\n",
    "        break\n",
    "    f.write(list_s[i] + \"\\n\") \n",
    "f.close()\n",
    "f = open('s1.txt','r')\n",
    "print(f.read())\n",
    "f.close()"
   ]
  },
  {
   "cell_type": "markdown",
   "id": "f1eb4750",
   "metadata": {},
   "source": [
    "파일 s.txt에 있는 모든것을 readline()으로 가져와 줄바꿈을 없애주고 리스트에 순서대로 저장을 해주었다. 그러고 난 후, .sort()로 정렬을 해주고 그 순서대로 파일에 집어 넣어 주었다. 줄바꿈을 해줘야 하므로 반복문을 이용해 +\\n을 넣어주었고, 이것들을 전부 출력해 주었다."
   ]
  },
  {
   "cell_type": "markdown",
   "id": "9d23ae8a",
   "metadata": {},
   "source": [
    "- 3. 파일 s.txt을 읽어서 각 라인에 있는 두 번째 단어(문자열) 자체들을 기준으로 라인별 정렬후 파일 s2.txt에 그 결과를 기록하는 코드를 작성하시오. 즉, 프로그램 수행 후 s2.txt에 있는 파일 내용은 다음과 같다."
   ]
  },
  {
   "cell_type": "code",
   "execution_count": 3,
   "id": "2ec4d604",
   "metadata": {},
   "outputs": [
    {
     "name": "stdout",
     "output_type": "stream",
     "text": [
      "ham bird\n",
      "cat dog\n",
      "pig ham\n",
      "dog pig\n"
     ]
    }
   ],
   "source": [
    "f = open('s.txt','r') #위의 코드와 동일하며 아래 key만 추가해 주었다.\n",
    "s=' '\n",
    "list_s1 = []\n",
    "while True:\n",
    "    s = f.readline()\n",
    "    s = s.rstrip('\\n')\n",
    "    if not s:\n",
    "        break\n",
    "    list_s1.append(s)\n",
    "list_s1.sort(key = lambda x:x[1:]) # key 추가\n",
    "f.close()\n",
    "f = open('s2.txt','w')\n",
    "for i in range(len(list_s1)):\n",
    "    if i == len(list_s1)-1:\n",
    "        f.write(list_s1[i])\n",
    "        break\n",
    "    f.write(list_s1[i] + \"\\n\") \n",
    "f.close()\n",
    "f = open('s2.txt','r')\n",
    "print(f.read())\n",
    "f.close()"
   ]
  },
  {
   "cell_type": "markdown",
   "id": "c399b076",
   "metadata": {},
   "source": [
    "1-2번문제와 코드가 거의 동일하며 key에 문자열의 [1:]을 넣어 첫번째 요소부터 끝까지 비교해 주도록 하였다."
   ]
  },
  {
   "cell_type": "markdown",
   "id": "1c851bd3",
   "metadata": {},
   "source": [
    "- 4. 파일 s.txt을 읽어서 각 라인들에 있는 모든 단어들을 순차적으로 다시 나열하되 각 라인에 세 개의 단어들이 오도록 하여 s3.txt에 기록하는 코드를 작성하시오. 즉, 프로그램 수행 후 s3.txt에 있는 파일 내용은 다음과 같다."
   ]
  },
  {
   "cell_type": "code",
   "execution_count": 4,
   "id": "df7e10a0",
   "metadata": {},
   "outputs": [
    {
     "name": "stdout",
     "output_type": "stream",
     "text": [
      "pig ham cat\n",
      "dog ham bird\n",
      "dog pig \n"
     ]
    }
   ],
   "source": [
    "f = open('s.txt','r') #위의 코드와 동일하며 아래 key만 추가해 주었다.\n",
    "s=' '\n",
    "list_s2 = []\n",
    "s = f.read() # 문자열 전부 받아와서\n",
    "list_s2 = s.split()  # 쪼개주기\n",
    "f.close()\n",
    "f = open('s3.txt','w')\n",
    "for i in range(len(list_s2)): # list_s2에 저장되어있는 값들 반복문으로 순서대로 저장\n",
    "    if i % 3 == 2:\n",
    "        f.write(list_s2[i]+'\\n')\n",
    "    else:\n",
    "        f.write(list_s2[i]+ ' ')\n",
    "f.close()\n",
    "f = open('s3.txt','r')\n",
    "print(f.read())\n",
    "f.close()"
   ]
  },
  {
   "cell_type": "markdown",
   "id": "452ca291",
   "metadata": {},
   "source": [
    "s.txt파일에 저장되어있는 문자열을 전부 받아 split을 사용해 리스트에 저장해준다. 리스트에 있는 값들을 순서대로 파일에 저장해 주는 대신 3번 저장을 하면 줄바꿈한 문자열을 추가해주는 식으로 진행했다.\n",
    "\n",
    "-----"
   ]
  },
  {
   "cell_type": "markdown",
   "id": "2fced5a9",
   "metadata": {},
   "source": [
    "### 2. 다음과 같은 조건들을 참고하여 회원 가입 및 로그인 프로그램을 작성하시오."
   ]
  },
  {
   "cell_type": "markdown",
   "id": "042e0f12",
   "metadata": {},
   "source": [
    "- 1) 프로그램 시작 후 다음과 같은 메시지가 출력되어 1, 2, 3 중 하나의 값을 입력 받도록 한다."
   ]
  },
  {
   "cell_type": "markdown",
   "id": "3c362fcb",
   "metadata": {},
   "source": [
    "- 2) 1을 선택하면 ID, Password, Name, School의 4가지 정보를 입력받아 파일에 저장하는 프로그램을 작성한다.\n",
    "    - 2-1) 입력된 내용은 access.txt 라는 이름의 텍스트 파일 내에 저장된다.\n",
    "    - 2-2) access.txt 파일의 각 라인에는 가입된 회원 각각의 정보가 \"[id]: [password], [name], [school]\" 형태로 저장된다.\n",
    "    - 2-3) 즉, 가입 회원이 10명이면 access.txt 파일 내에 라인 수도 정확히 10개이다.\n",
    "    - 2-4) 암호화 방식은 sha 모듈을 활용한다. sha 모듈 활용 방법은 본 문제의 마지막에 제시된 sha 활용 예를 참고한다.\n",
    "        - 즉, access.txt 파일 내에 password 정보는 암호화 되어 저장되어야 한다.\n",
    "    - 2-5) 회원 정보를 입력 받을 때 id를 입력 받은 직후 access.txt를 확인하여 이미 존재하는 id가 입력되었다면 다음 메시지를 출력하고 id 정보를 다시 입력받는다.\n",
    "        - Sorry, the entered ID is already used.\n",
    "- 3) 2를 선택하면 ID, Password의 2가지 정보를 입력받는 프로그램을 작성한다.\n",
    "    - 3-1) 입력된 ID 정보가 access.txt에 존재하지 않으면 다음과 같은 메시지를 출력하고 다시 입력받는다.\n",
    "        - Sorry, you are not a registered member.\n",
    "    - 3-2) 입력된 ID가 올바르게 존재하지만 Password 정보가 access.txt 파일에 있는 정보와 불일치하면 다음과 같은 메시지를 출력하고 Password를 다시 입력받는다.\n",
    "        - Sorry, the entered password is not correct.\n",
    "        - 이 때에도 사용자가 입력한 Password 정보와 함께 sha 모듈이 활용되어야 한다.\n",
    "    - 3-3) 입력된 ID와 Password가 모두 올바르면 다음과 같은 메시지를 출력한다.\n",
    "        - Hello [name]!\n",
    "        - 위 [name]에는 access.txt에 기록되어 있는 name 정보를 출력한다.\n",
    "- 4) 3을 선택하면 프로그램이 끝난다."
   ]
  },
  {
   "cell_type": "code",
   "execution_count": 1,
   "id": "01ffbfa3",
   "metadata": {},
   "outputs": [
    {
     "name": "stdout",
     "output_type": "stream",
     "text": [
      "Welcome to Our Servie\n",
      "A.Sign Up\n",
      "B.Sign In\n",
      "C.Quit\n",
      "1, 2, 3 중 하나의 값을 입력하세요: 1\n",
      "ID를 입력하세요: myname\n",
      "Password를 입력하세요: is\n",
      "Name을 입력하세요: joon\n",
      "School를 입력하세요: hyuk\n",
      "\n",
      "Welcome to Our Servie\n",
      "A.Sign Up\n",
      "B.Sign In\n",
      "C.Quit\n",
      "1, 2, 3 중 하나의 값을 입력하세요: 1\n",
      "ID를 입력하세요: myname\n",
      "Sorry, the entered ID is already used\n",
      "ID를 입력하세요: success\n",
      "Password를 입력하세요: yeah\n",
      "Name을 입력하세요: Joon\n",
      "School를 입력하세요: koreatech\n",
      "\n",
      "Welcome to Our Servie\n",
      "A.Sign Up\n",
      "B.Sign In\n",
      "C.Quit\n",
      "1, 2, 3 중 하나의 값을 입력하세요: 2\n",
      "회원정보 ID를 입력하세요: hi\n",
      "Sorry, you are not a registered member.\n",
      "\n",
      "Welcome to Our Servie\n",
      "A.Sign Up\n",
      "B.Sign In\n",
      "C.Quit\n",
      "1, 2, 3 중 하나의 값을 입력하세요: 2\n",
      "회원정보 ID를 입력하세요: myname\n",
      "회원정보 Password: no\n",
      "Sorry, the entered password is not correct.\n",
      "회원정보 Password: is\n",
      "Hello joon\n",
      "\n",
      "Welcome to Our Servie\n",
      "A.Sign Up\n",
      "B.Sign In\n",
      "C.Quit\n",
      "1, 2, 3 중 하나의 값을 입력하세요: 3\n"
     ]
    }
   ],
   "source": [
    "import hashlib\n",
    "\n",
    "while(True):\n",
    "    print('Welcome to Our Servie')\n",
    "    print('A.Sign Up')\n",
    "    print('B.Sign In')\n",
    "    print('C.Quit')\n",
    "    get_num = int(input(\"1, 2, 3 중 하나의 값을 입력하세요: \"))\n",
    "# -------------------------------------------------------------------------------- 1.\n",
    "    if get_num == 1: # 2번 시작\n",
    "        while(True): # 입력한 ID가 다른것이 나올때까지 반복\n",
    "            isCorrectID = False\n",
    "            ID = input(\"ID를 입력하세요: \")\n",
    "            with open(\"access.txt\", \"r\") as f:\n",
    "                lst_name = f.readlines()\n",
    "                for ch in lst_name: # 여기에서 같은 ID가 있는지 확인\n",
    "                    if ch[:ch.find(\":\")] == ID:\n",
    "                        print(\"Sorry, the entered ID is already used\")\n",
    "                        isCorrectID = True\n",
    "                        break\n",
    "            if isCorrectID == False: break # 같은것이 없을경우 break\n",
    "        Password = input(\"Password를 입력하세요: \")\n",
    "        PasswordToSha = hashlib.sha256(Password.encode())\n",
    "        Name = input(\"Name을 입력하세요: \")\n",
    "        School = input(\"School를 입력하세요: \")\n",
    "        UserInfo = ID + \": \" + PasswordToSha.hexdigest()+\", \" + Name+ \", \" + School+\"\\n\" # 문자열로 저장\n",
    "        f = open(\"access.txt\", \"a\")\n",
    "        f.write(UserInfo) # access.txt파일에 저장\n",
    "        f.close()\n",
    "# --------------------------------------------------------------------------------- 2. \n",
    "    elif get_num == 2: # 3번 시작\n",
    "        get_Info = \"\" # 문자열 저장할 변수\n",
    "        get_ID = input(\"회원정보 ID를 입력하세요: \")\n",
    "        with open(\"access.txt\", \"r\") as f:\n",
    "            isCorrectID = False\n",
    "            lst_name = f.readlines()\n",
    "            for ch in lst_name: # 이름 같은것이 있는지 확인\n",
    "                if ch[:ch.find(\":\")] ==  get_ID: # 동일한 것 있을경우 그 문자열 get_info에 저장\n",
    "                    get_Info = ch\n",
    "                    isCorrectID = True\n",
    "                    break\n",
    "            if isCorrectID == False: # 있으면 False로 종료(elif문 종료)\n",
    "                print(\"Sorry, you are not a registered member.\")\n",
    "            else: # 없으면 비번 확인\n",
    "                while(True):\n",
    "                    isCorrectID = False\n",
    "                    get_Password = input(\"회원정보 Password: \")\n",
    "                    PasswordToSha = hashlib.sha256(get_Password.encode())\n",
    "                    if ch[ch.find(\":\")+2:ch.find(\",\")] == PasswordToSha.hexdigest(): # 비번 확인\n",
    "                        isCorrectID = True\n",
    "                        break\n",
    "                    if isCorrectID == False: # 동일하지 않을경우 다시 입력\n",
    "                        print(\"Sorry, the entered password is not correct.\")\n",
    "                    else: # 동일할 경우 break\n",
    "                        break\n",
    "                print(\"Hello \" + get_Info.split(\", \")[1]) # 이름 출력(\", \"로 split해주어 그 리스트의 1번째 요소)\n",
    "# --------------------------------------------------------------------------------- 3. \n",
    "    elif get_num == 3: # 3입력시 반복문 종료\n",
    "        break\n",
    "# --------------------------------------------------------------------------------- 4.     \n",
    "    print()"
   ]
  },
  {
   "cell_type": "markdown",
   "id": "c2d793ab",
   "metadata": {},
   "source": [
    "먼저 1을 입력하게 되면 if문이 시작되는데 이 if문에서 먼저 ID를 입력하는 창이 나온다. ID를 입력하고 access.txt파일에서 readlines()로 리스트로 받아 이 값을 for문으로 ch에 주고 이 ch를 슬라이싱하여 ID부분만 비교하도록 해주었다. 만약 같은 ID가 이미 파일에 존재한다면 isCorrectID의 값을 true로 변경해주어 true가 나오면 반복문을 빠져나올 수 없도록 해주었다. false일 경우 반복문을 빠져나와 password를 입력할 수 있도록 해주었다. password를 입력하면 hashlib.sha256을 이용하여 암호화 해주었고, 이 값을 파일에 넣어주었다. 나머지 정보들도 입력받아 문자열로 파일에 저장해 주었다. 이후, 2를 입력하게 되면 회원정보를 확인하는 단계로 오게 되는데 ID입력은 1을 입력했을떄 확인하는 코드를 그대로 가져와 조건문만 변경해 주었고, password도 비슷하게 작성하였다. 슬라이싱은 \":\"가 있는 자리 +2  ~ \",\"가 있는 자리로 잡아 암호화값을 비교하였다. 동일하면 이름을 넣어주었고 이름은 \", \"로 슬라이싱한 값의 [1]요소를 출력시켜주도록 하였다. 3을 입력하면 break로 빠져나와 프로그램을 종료하도록 해주었다."
   ]
  },
  {
   "cell_type": "markdown",
   "id": "8762cad7",
   "metadata": {},
   "source": [
    "### 3. range() 함수와 유사한 frange() 함수를 다음 조건을 참고하여 만드시오."
   ]
  },
  {
   "cell_type": "markdown",
   "id": "5bdf2992",
   "metadata": {},
   "source": [
    "- 1) frange()의 인자 구성은 다음과 같이 range와 동일하지만 각 인수들은 음수를 받지 않는다고 가정한다.\n",
    "> range(stop) \\\n",
    "> range(start, stop[, step])\n",
    "\n",
    "- 2) frange() 함수의 인자에 대한 기본 시작(start) 값은 0.0이고, 기본 단계(step) 값은 0.1이다.\n",
    "- 3) frange 사용 예\n",
    "    - 3-1) frange(0.5)\n",
    "        - [0.0, 0.1, 0.2, 0.3, 0.4]\n",
    "    - 3-2) frange(1.0, 2.0)\n",
    "        - [1.0, 1.1, 1.2, 1.3, 1.4, 1.5, 1.6, 1.7, 1.8, 1.9]\n",
    "    - 3-3) frange(2.2, 4.0, 0.5)\n",
    "        - [2.2, 2.7, 3.2, 3.7]"
   ]
  },
  {
   "cell_type": "code",
   "execution_count": 2,
   "id": "6c225057",
   "metadata": {},
   "outputs": [
    {
     "name": "stdout",
     "output_type": "stream",
     "text": [
      "[0.0, 0.1, 0.2, 0.3, 0.4]\n",
      "[1.0, 1.1, 1.2, 1.3, 1.4, 1.5, 1.6, 1.7, 1.8, 1.9]\n",
      "[2.2, 2.7, 3.2, 3.7]\n"
     ]
    }
   ],
   "source": [
    "from decimal import Decimal # 0.3부동소수점 표현 막기 위함\n",
    "def frange(*argv): # stop하나만 받을경우 start를 기본인자로 표현하기 어려워 가변인자로 받음\n",
    "    start = 0.0 # 기본 수\n",
    "    stop = 0.0\n",
    "    step = 0.1\n",
    "    if len(argv) == 1: # 가변인자 수 하나일떄\n",
    "        stop = argv[0]\n",
    "    elif len(argv) == 2: # 가변인자 수 두개일떄\n",
    "        start, stop = argv\n",
    "    elif len(argv) == 3: # 세개일때\n",
    "        start, stop, step = argv\n",
    "    else: # 나머지는 종료\n",
    "        return \n",
    "    # Decimal은 0.3부동소수점 막기 위해 사용. 나머지 해설은 아래 풀이 참조\n",
    "    return [start + float(Decimal(str(step))*Decimal(str(f))) for f in range(int((stop-start)/step)+2)\n",
    "            if start + float(Decimal(str(step))*Decimal(str(f)))<stop] # 리스트 함축 사용\n",
    "print(frange(0.5))\n",
    "print(frange(1.0, 2.0))\n",
    "print(frange(2.2, 4.0, 0.5))"
   ]
  },
  {
   "cell_type": "markdown",
   "id": "8ec189df",
   "metadata": {},
   "source": [
    "frange의 인자를 가변인자로 설정해 주었는데, 인자로 하나만 받을 경우에는 stop에 넣어줘야 하고, 2개를 받을 때에는 stop, start를 받아줘야 한다. 하지만 start가 stop보다 앞쪽에서 받아야 하므로 (start = 0.0, stop, step = 0.1) >> 오류가 발생하고 만다. 그래서 가변인자로 받도록 해주었다. 가변인자의 길이로 수를 튜플로 주었고, 이제 남은것은 리스트 값의 리턴이다. 이 부분은 리스트 함축을 사용해 주었다. for문을 range(int((stop-start)/step)+2)로 혹시 모를 범위를 놓치지 않기 위해 설정해 주었고, 뒤에 if start + float(Decimal(str(step))*Decimal(str(f)))<stop 를 해주어 stop보다 작은 값만 주도록 해주었다. 여기에서 Decimal은 0.1+0.1+0.1 = 0.3000004로 표현되는 부동소수점을 막기 위해 str>>Decimal >> float으로 형변환 해주며 계산을 진행해 주었다.\n",
    "\n",
    "-----"
   ]
  },
  {
   "cell_type": "markdown",
   "id": "f6a579af",
   "metadata": {},
   "source": [
    "### 4. 가변인수를 받는 함수 sum()을 다음과 같은 조건을 참고하여 구현하시오."
   ]
  },
  {
   "cell_type": "markdown",
   "id": "1f0715d8",
   "metadata": {},
   "source": [
    "- sum() 사용 예\n",
    "\n",
    ">sum()\\\n",
    ">0\n",
    ">\n",
    ">sum(1, 2)\\\n",
    ">3\n",
    ">\n",
    ">sum(1, 2, 3, 4, 5)\\\n",
    ">15\n",
    ">\n",
    ">sum(1, 5, 7, 2, -10)\\\n",
    ">5"
   ]
  },
  {
   "cell_type": "code",
   "execution_count": 3,
   "id": "f8c9105b",
   "metadata": {},
   "outputs": [
    {
     "name": "stdout",
     "output_type": "stream",
     "text": [
      "0\n",
      "3\n",
      "15\n",
      "5\n"
     ]
    }
   ],
   "source": [
    "import functools\n",
    "\n",
    "def sum(*args):\n",
    "    if args == (): return 0 # 아무것도 없을때 \n",
    "    return functools.reduce(lambda a,b : a+b, args) #람다함수\n",
    "print(sum())\n",
    "print(sum(1,2))\n",
    "print(sum(1,2,3,4,5))\n",
    "print(sum(1,5,7,2,-10))"
   ]
  },
  {
   "cell_type": "markdown",
   "id": "4583633b",
   "metadata": {},
   "source": [
    "reduce함수는 args가 만약 (1,2,3,4,5)라면 (((1+2)+3)+4)+5 순으로 진행하며 내가 설정한 lambda a,b:a+b를 거치며 실행되는 함수이다. 이것을 활용하여 sum함수를 작성하였다.\n",
    "\n",
    "-----"
   ]
  },
  {
   "cell_type": "markdown",
   "id": "d3959a99",
   "metadata": {},
   "source": [
    "### 5. 여러 단어로 이루어진 문자열을 입력받아 각 단어의 첫글자로 이루어진 단어를 대문자로 출력하는 myinitial() 함수를 다음 조건을 참고하여 작성하시오."
   ]
  },
  {
   "cell_type": "markdown",
   "id": "805ca42b",
   "metadata": {},
   "source": [
    "- 1) 다음에 제시되는 함수들을 모두 이용해야 한다.\n",
    "\n",
    "    - split\n",
    "    - map\n",
    "    - join\n",
    "- 2) myinitial() 함수 사용 예\n",
    "\n",
    "    - myinitial(\"as soon as possible\")\n",
    "        - ASAP"
   ]
  },
  {
   "cell_type": "code",
   "execution_count": 5,
   "id": "98b8eb01",
   "metadata": {},
   "outputs": [
    {
     "name": "stdout",
     "output_type": "stream",
     "text": [
      "ASAP\n"
     ]
    }
   ],
   "source": [
    "def myinitial(strInit):\n",
    "    list_upper = strInit.split() #쪼개기\n",
    "    list_upper = list(map(lambda a : a[0].upper(), list_upper)) # map사용\n",
    "    ret_str = ''.join(list_upper) # 조인\n",
    "    print(ret_str)\n",
    "myinitial(\"as soon as possible\")"
   ]
  },
  {
   "cell_type": "markdown",
   "id": "79a72dd5",
   "metadata": {},
   "source": [
    "strInit을 받아 split으로 쪼개준다. 그 쪼개준 리스트 값들 중 첫번째 요소를 대문자만 반환하는 함수를 사용하여 리스트에 저장해 준다. 그 리스트의 값을 join을 이용하여 합쳐 print하였다. 여기에서 map함수를 사용한 방법으로 list_upper에 있는 값들을 전부 lambda a:a[0].upper함수를 거치게 되는데, 여기에서 a[0]은 list_upper에 있는 요소들이다 만약 as라고 하면 as가 a가 되고 a[0]이 a가 된다. 이 값을 .upper()를 하여 A값이 리스트 list_upper에 다시 저장이 되는 것이다.\n",
    "\n",
    "-----"
   ]
  },
  {
   "cell_type": "markdown",
   "id": "e3a80a50",
   "metadata": {},
   "source": [
    "### 6. 음이 아닌 정수 n를 입력받으면 n! (factorial)을 계산하는 myfact() 함수를 재귀적 함수로 구현하시오."
   ]
  },
  {
   "cell_type": "markdown",
   "id": "fddd555e",
   "metadata": {},
   "source": [
    "- [옵션] 참을 수 있는 정도 만큼의 수행시간을 직접 기다려보면서 n을 늘려보도록 합시다."
   ]
  },
  {
   "cell_type": "code",
   "execution_count": 7,
   "id": "e60e4bff",
   "metadata": {},
   "outputs": [
    {
     "data": {
      "text/plain": [
       "87144248962317235332364169948550663995016494380614040643120460547086575978025113094005316813387253233918824761027823220193224411432506537861735630651739690844548019945712582743187890959533721195699182388458112319494020147228190998982521848222673662664415758220775430433633181034644940993940309924604620609902456032697423471842607702869889993931638206179934969400770095329575996340043050371531159588486440971355105337304697713575811607464179879393200424609541219249792688017198741787411895332690770795383061042054819932275395875405966389713910757529276314956708640058616750861299719225853231172377711344581605022107094346459639472229615399844420206930411441926683319643201494331561630793925505144948138965107042859934331312497135695163558053143484019469163773928148062796900762803468576155140846093304215833940256882313656130255935841986124053880273129010591807353576256072040173411600200156317864729426654076862530283556842950559771181497121859669481388756581902669873576925704853988815689008629214592266755309457298182614531396381697582671137306843013261900760019964494514455622366948394012157861913526910279929227114028389607761493678097685462315090776607713186695899388908807530473365169896763332416928788910566623192953380995489015252555688747229967570075257124148089981412338439103014824866115851078608141404411928236488742026382712282520254324215957687520820919350400479553531931667795509970266683070165575559976938096522789808161498962849889240219972359090360249190804176751581790233417038442583167785643752362146477888967346265832924825935280469297459611870569361765843847290444111864144303029098238954101659600389643798996932330241538967656656702753787420566825004087017825228772600985214558499256125100950694259019159017791195218426874503459702469299590864658119839753677543377484462317338993831355286915196091931348626642189442822100830974265539643571684309367990788565725478085835713256335711046105063186160586884047374924876793711453451498752981857801072684627064787718859626210820444254588084049291027402994449318170317262256693451131586901294124492622920994905608684037971943515221057868961606928260045849077362335426076618265679644419259984626425266222662572306420673724612511283233331746672430990637081325591212188480074398815071564203054900704583608367821098639642520325875258979020104192617102685700524007567195101555742030241331185742847372800690739735982832480007465327007688856088895540895957029861240077641396006951600952345755149706287866852312409192640436676622911081664421299730494546788189812643918935435390948805246858002303084845508186591642165079880727898087475421918183228754363536770718523044943906220149274075958934769651113019018739260924468019113902262074879161559765816263630784345554321501203820058876903161279092620614511699002485919345477277353704876705593037365380980371178139659512534680422455640847617201869529330458547713123454002382952402972343628024967022851056661748999544860822182129604620170708858603366799016857818231471025444800260134195370492639596594844947757900212139366361303964804801833466245796281053051681448714745707705787146985485856792142019719769041942084713064396997074136773692128341119623911407400620733065226955156882356070436202968608084269737414907053232343790331745651625454227579146910055621100198243766273431853984689693720240536981697291461371335366154758413307964406649152867487456307141644393987636736963381954560126049227503794296420098108955228376299263478878968926409618388806650296400482035722790836006061382499466143374106420593475334797777286969829424194973016006096754008067954161993558039251264098299428035652107798911144308146071467612204874332931460444891461716608761312320316045627874930228095452330184399976943159663703564604887719780970795911762713301139835514774183013489489062314234869628254871292213069495410357876276862472731023699775902606275493099338027595030685012849849633778759139135588082149222765206174152880443267999617573754697338469017122818151074073544312016170740808988091682807282370289666116293788781960046434533291603174347478633894706703843482633379891060627038081943517899787955369262389872089699024952456269239195791470768696361997616827751153899891284408983174449372194396821370070430502737645927152711817541371889768102730526047786541676916430244118054960171903046350205734127900802019906628638689537108246996197601013034536386090980772405224500812939165827088073747274743737665026763182790212616232621476806277939298489255318132423608831507358366464670154774963171362051147784526823485104827256782409933093993576845642180629761137507532715558294194482378012309564690949849611617381760967796354139962535157705258344293607259327815449724634118513580136797232379889786877536743453838033015989428675653728171343393314572382616459686525733677150340816333514098165958178653818121860160037200911424412252340604092194045800703811499394744863334000810098516828001583621691771508919107420260967272435563598092955464414064580903105124117049312945562171166415473327706470143251093184621651886883788664762111398919111103067751024443075070122767705799006383124534418371935392932742599971136406423208670033750180502750792876372772210054009458736955520049322432565594075483368897612722551578519224406324433790617095573527009136625012632285694907457676823650116944507670707913499872615189970919645234916587602228270277553548510337552642355799519380279764994471461678869621694547922389299372905366606252297693350250361669287973220511329254506595429729647101540496178203228201915716360471674957111403544038636780872155687590296414932658730888452056264965907888948004898495341511061683643177042227144225762932907218822912946727792978629110099361046450375890266565501011890564861041741455191874216069083427909988007635450763794249833554229082032763712957019943517624074266088311391592000579476633333439201030782767735279501188304717019233828632260041475803630990113876643318032201164216703693772996693189262903786966627203883345449384272468686148162069803950910108586371163899377050552656688929121026070982186894355540216232249313281934922291108696037348753553224111314611684128707598386468853607303812941892485574224057705730425243448354465314087425624932997020197038069636489705229446101082995651239050541923185413340001051922469311801635726977253668351543624113599858720042564388388647401243149470634972629562335530258657569375753663151752166874273885451487274213032131120429621710048525680326017469183209605443210905936285677796337125801859948018604918388806982113553893439679483593015003592641591120145418334153492009681692560316044731400813019416224640600037286919282822338850357651910147796100769359017116644928381880903486194360463038295689951133530116684026583214267183973801542756461961525869836144805967500144602164898825405111880274570032572678029655940913770592433934169418122438791097158268174736618608170613445415116204340901880140613472281164243309593784377840570682815731533274606227573284874006518778128462692281989523966776680414735838190281513402965007159141500104047898160112309535442654819730969913810960030971588983739441860970891671528631504440772564979940939931260675180889495582574097479516619268446766487625896081574942318630170562826042428072434294151862876477814796969831195733444016583374387902326179534348198789835619562783836790423967827710858523971508063126573977506482918358844429253208225379674809310661696423046116788391826926220802091188364180594044645289793476008570076988091369665822550187933908701093841545514743155427620851907396567273131174092365871740445757193524434831026317615320552243301609075874704005067549334924294776054520682375540703898902591167771574794654537527847782389820849817625294652142553007650414669320034693662071187059169559556537519727551763446976787365155436921603426310578488533029660236872826988872304982383058207902420751415163327643629373356413521211450468188351179959878552869672093177926356603932464298683637219426038386631059195935818551311483139956468472598923937418946958556221931721646673195729661883155891401134551717531414074601932319771233375449281134794873023905288123208451212365895104240364756318018532595997046496931917435491050828764135738029389642893817940210844922461214860145621271638212674402404386145123411630164354542954624636702996586951606272000000000000000000000000000000000000000000000000000000000000000000000000000000000000000000000000000000000000000000000000000000000000000000000000000000000000000000000000000000000000000000000000000000000000000000000000000000000000000000000000000000000000000000000000000000000000000000000000000000000000000000000000000000000000000000000000000000000000000000000000000000000000000000000000000000000000000000000000000000000000000000000000000000000000000000000000000000000000000000000000000000000000000000000000000000000000000000000000000000000000000000000000000000000000000000000000000000000000000000000000000000000000000000000000000000000000000000000000000000000000000000000000000000000000000000000000000000000000000000000000000000000000000"
      ]
     },
     "execution_count": 7,
     "metadata": {},
     "output_type": "execute_result"
    }
   ],
   "source": [
    "def myfact(n):\n",
    "    if n == 1: return 1 # 1일때 정상적인 반환\n",
    "    return n*myfact(n-1) # 나머지는 myfact(n-1)을 해주어 계속 반환 진행\n",
    "myfact(2950)"
   ]
  },
  {
   "cell_type": "markdown",
   "id": "a8eca74a",
   "metadata": {},
   "source": [
    "2990이상부터 RecursionError가 발생하여 더 진행하지 못하였습니다.\n",
    "1이 나오면 1을 반환 나머지는 (n-1)을 다시 함수에 주어 진행하도록 하게 하였습니다.\n",
    "\n",
    "-----"
   ]
  },
  {
   "cell_type": "markdown",
   "id": "cb9d55b4",
   "metadata": {},
   "source": [
    "### 7. (서술형) import string 과 from string import * 의 차이점을 설명하시오."
   ]
  },
  {
   "cell_type": "markdown",
   "id": "02d0ab6f",
   "metadata": {},
   "source": [
    "from string import * 는 string패키지의 모든 객체와 함수를 심벌 이름만으로 호출할 수 있도록 사용한 것이고, import string은 객체 지정과 동시에 객체와 함수를 호출해야 한다. import math와 from math import *로 예시를 든다면 import math는 math.pi로, from math import *는 pi로 호출이 가능하다."
   ]
  },
  {
   "cell_type": "markdown",
   "id": "bc771753",
   "metadata": {},
   "source": [
    "### [Incremental Project 문제]\n",
    "이전 Assignment 3의 마지막 문제는 웹 URL로 지정된 웹페이지를 문자열로 가져와 모든 HTML 태그 및 CSS와 Javascript를 제외한 순수 텍스트를 얻어내고 그 안에 존재하는 단어를 추출하여 각 단어들에 대해 출현빈도를 사전형태({'world': 2, 'hello': 1, 'python': 1})로 저장하여 출력하는 것이었다. 이번에는 Assignment 3를 확장하여 다음과 같은 조건을 만족하도록 구현하시오.\n",
    "- 1) 다음 사이트에서 제시되는 불용어 (Stop words)를 참고하여 이전 숙제에서 구성했던 단어 사전에서 불용어들을 모두 제거하는 코드를 추가하시오.\n",
    "    - 영어 불용어: http://www.lextek.com/manuals/onix/stopwords1.html\n",
    "    - 한글 불용어: https://raw.githubusercontent.com/stopwords-iso/stopwords-ko/master/stopwords-ko.txt\n",
    "- 2) 각 URL로 지정된 웹페이지의 HTML 소스를 파일로 저장하시오.\n",
    "    - URL이 http://URL 이라면 파일명은 URL.html 이다.\n",
    "        - 예: URL이 http://www.cnn.com 이라면 파일명은 www.cnn.com.html 이다.\n",
    "- 3) 단어의 출현빈도가 담긴 사전 객체를 위 HTML 소스 파일과 동일한 폴더에 파일로 저장하시오.\n",
    "    - 파일입출력 (E-learning 13주차) 마지막에 학습한 pickle 모듈을 활용하시오.\n",
    "    - URL이 http://URL 이라면 사전 객체를 담고 있는 파일명은 URL.words_frequency.pickle 이다.\n",
    "    - 예: URL이 http://www.cnn.com 이라면 파일명은 www.cnn.com.words_frequency.pickle 이다.\n",
    "- 4) 최소 5개 이상의 웹 사이트 각각에 대한 HTML 소스 파일과 단어 출현빈도 파일을 저장하시오.\n",
    "    - 즉, 5개의 웹 사이트에 대해 총 10개의 파일을 동일한 폴더에 생성하시오.\n",
    "    - [주의] 가능하면 웹사이트에 단어들이 많고 다루는 주제가 서로 다른 웹 사이트들로 선정하는 것 추천\n",
    "- 5) 위 문제에서 저장한 모든 pickle 파일들을 객체로 다시 로드하여 본인이 저장하여 분석한 사이트들 각각에 대해서 가장 많이 출현한 단어 3개씩를 뽑아 제시하시오.\n",
    "    - 반드시 pickle 모듈로 저장한 5개 이상의 pickle 파일들을 다시 5개 이상의 사전 객체로 로드 하는 코드가 추가되어야 함\n",
    "- 6) 간단한 검색엔진 코딩 (Like Google!!!)\n",
    "    - 사용자에게 임의의 검색어 (하나 또는 여러 단어로 구성) 를 입력받으시오.\n",
    "        - 예:\n",
    "            - 대한민국\n",
    "            - 컴퓨터 공학\n",
    "            - 맛있는 음식\n",
    "            - 파이썬\n",
    "            - 한기대 장점\n",
    "    - 입력받은 검색어들에 대해서도 1)에서 제시하는 방법처럼 불용어 처리를 하여 정리\n",
    "    - 입력 받은 검색어와 유사도(Similarity)가 높은 웹 사이트 기준으로 위 4)에서 미리 지정해 놓은 5개 이상의 웹 사이트 URL들을 일렬로 나열하여 출력하시오.\n",
    "        - 검색어와 웹 사이트 간의 유사도는 본인이 스스로 정하시오.\n",
    "        - 유사도를 정하는 최소한의 기준은 단어 출현 빈도를 기반으로 해야 하며, 이외의 본인이 생각하는 방안이 있으면 함께 사용해도 됨.\n",
    "        - 유사도가 높은 웹 사이트가 상위에 출력되어야 함 (즉, 유사도 기준 내림 차순)\n",
    "        - 유사도가 동일한 웹 사이트들에 대해서는 임의 배치함.\n",
    "- 7) [주의] 필수사항\n",
    "    - 위에서 만든 검색엔진 코딩은 매우 간단한 것이라 부족한 점이 많이 존재한다.\n",
    "    - 본인이 생각하기에 상업적인 완성도 높은 검색 로봇/엔진이 되려면 어떤 기능들이 추가적으로 구현되어야 할지 최소 1가지 이상 제시하시오."
   ]
  },
  {
   "cell_type": "code",
   "execution_count": 8,
   "id": "1328e51d",
   "metadata": {},
   "outputs": [],
   "source": [
    "import requests\n",
    "import string\n",
    "import pickle\n",
    "\n",
    "def getURL(URL):\n",
    "    req = requests.get(URL)\n",
    "    source = req.text\n",
    "    with open(\"Assingment4Folder/\"+URL[URL.find(\"//\")+2:]+\".html\", \"w\", encoding = 'UTF-8') as f: # 이 폴더 안에 저장\n",
    "        f.write(source)\n",
    "    check = True #<>괄호 밖인지 알려주는 변수 # 여기는 과제 2 에서 했던 코드\n",
    "    checkCode = True #<style></style> 밖인지 알려주는 변수\n",
    "    checkScript = True\n",
    "    checkLink = True\n",
    "    index = 0 \n",
    "    s = ''\n",
    "    for ch in source:\n",
    "        if(ch == '<'): #괄호 사이의 값이면 check false로 만들어줌\n",
    "            check = False\n",
    "        if(source[index:index+6] == '<style'): #<style>이 나오면 false로 만들어줌\n",
    "            checkCode = False\n",
    "        if(source[index:index+7] == '<script'): #<script가 나오면 false로\n",
    "            checkScript = False\n",
    "        if(check and checkCode and checkScript and checkLink): # style, script, <>사이에 없으면 그 값들을 문자열 s에 저장\n",
    "            s = s + ch\n",
    "        if(ch == '>'): # <>밖이면 true로 만들어줌\n",
    "            s += \" \"\n",
    "            check = True\n",
    "        if(source[index:index+7] == '</style'): # style밖이면 true로 만들어줌\n",
    "            s += \" \"\n",
    "            checkCode = True\n",
    "        if(source[index:index+8] == '</script'): # script밖이면 true로 만들어줌 \n",
    "            s += \" \"\n",
    "            checkScript = True\n",
    "        if(index != len(source)-9): # 인덱스 오류가 뜨지 않게 하기 위함(style 인덱스 확인할때 +8때문)\n",
    "            index = index + 1\n",
    "    list_a = s.split() #띄어쓰기 구분하여 문자열 나눠줌\n",
    "        ###############################################################################################################여기부터 과제\n",
    "    for ch in range(len(list_a)): # string.punctuation의 값이 아닌 것만 list_a[ch]에 저장\n",
    "        list_a[ch] = ''.join(x for x in list_a[ch] if x not in string.punctuation)\n",
    "    list_a = ' '.join(list_a).split() # 빈 문자열 전부 없애주기\n",
    "    list_a.sort() \n",
    "    dict_a = {}\n",
    "    count = 0\n",
    "    for ch in list_a:\n",
    "        if ch in dict_a: # 정렬되어 있으므로 그 키가 이미 존재한다면 그 키의 값에 +1 없다면 새로 생성해서 1로 부여해준다.\n",
    "            dict_a[ch] += 1\n",
    "        else:\n",
    "            dict_a[ch] = 1\n",
    "    ###############################################################################################################여기부터 과제 4\n",
    "    dict_filter = {}\n",
    "    with open(\"StopWords.txt\", \"r\", encoding = 'UTF-8') as f: # 여기에서 불용어 적용, 맨 위에서 html소스 저장\n",
    "        stopwords = f.readlines()\n",
    "        for ch in dict_a:\n",
    "            if ch not in [x[:-1] for x in stopwords]:\n",
    "                dict_filter[ch] = dict_a[ch]\n",
    "    with open(\"Assingment4Folder/\"+URL[URL.find(\"//\")+2:]+\".words_frequency.pickle\", \"wb\") as f: # 이 폴더 안에 저장\n",
    "        pickle.dump(dict_filter, f) # pickle모듈로 저장\n",
    "    with open(\"Assingment4Folder/\"+URL[URL.find(\"//\")+2:]+\".words_frequency.pickle\", \"rb\") as f:\n",
    "        return pickle.load(f) # 여기에서 사전 객체로 로드를 리턴\n",
    "dict_cnn = getURL(\"http://www.cnn.com\") # 사전 객체로 반환하여 저장\n",
    "dict_naver = getURL(\"https://www.naver.com\")\n",
    "dict_reddit = getURL(\"https://www.reddit.com\")\n",
    "dict_steam = getURL(\"https://store.steampowered.com\")\n",
    "dict_unity = getURL(\"https://unity.com\")"
   ]
  },
  {
   "cell_type": "code",
   "execution_count": 9,
   "id": "8ea6e3b8",
   "metadata": {},
   "outputs": [
    {
     "name": "stdout",
     "output_type": "stream",
     "text": [
      "검색어를 입력하세요: Video Act 대한민국 Instagram Colombia\n",
      "['Video', 'Act', '대한민국', 'Instagram', 'Colombia']\n",
      "{'http://www.cnn.com': 6, 'https://www.naver.com': 0, 'https://www.reddit.com': 2, 'https://store.steampowered.com': 0, 'https://unity.com': 1}\n",
      "http://www.cnn.com\n",
      "https://www.reddit.com\n",
      "https://unity.com\n",
      "https://www.naver.com\n",
      "https://store.steampowered.com\n"
     ]
    }
   ],
   "source": [
    "search = input(\"검색어를 입력하세요: \")\n",
    "list_search = search.split()\n",
    "for ch in range(len(list_search)): # string.punctuation의 값이 아닌 것만 list_a[ch]에 저장\n",
    "    list_search[ch] = ''.join(x for x in list_search[ch] if x not in string.punctuation)\n",
    "search = ' '.join(list_search).split() # 빈 문자열 전부 없애주기\n",
    "search_filter = []\n",
    "with open(\"StopWords.txt\", \"r\", encoding = 'UTF-8') as f: # 여기에서 불용어 적용, 맨 위에서 html소스 저장\n",
    "    stopwords = f.readlines()\n",
    "    for ch in search:\n",
    "        if ch not in [x[:-1] for x in stopwords]:\n",
    "            search_filter.append(ch)\n",
    "cnn_count = 0 # 몇번 나왔는지 저장하기 위한 변수\n",
    "naver_count = 0\n",
    "reddit_count = 0\n",
    "steam_count = 0\n",
    "unity_count = 0\n",
    "print(search_filter)\n",
    "for ch in search_filter: # 나온 문자의 수를 더해줌\n",
    "    if(ch in dict_cnn):\n",
    "        cnn_count += dict_cnn[ch]\n",
    "    if(ch in dict_naver):\n",
    "        naver_count += dict_naver[ch]\n",
    "    if(ch in dict_reddit):\n",
    "        reddit_count += dict_reddit[ch]\n",
    "    if(ch in dict_steam):\n",
    "        steam_count += dict_steam[ch]\n",
    "    if(ch in dict_unity):\n",
    "        unity_count += dict_unity[ch]\n",
    "dict_array_URL = {'http://www.cnn.com':cnn_count, 'https://www.naver.com':naver_count, # 사전형식으로 저장\n",
    "                 'https://www.reddit.com':reddit_count, 'https://store.steampowered.com':steam_count,\n",
    "                 'https://unity.com':unity_count }\n",
    "print(dict_array_URL)  # 무엇이 많이 존재하는지 출력하는것 \n",
    "dict_array_URL = sorted(dict_array_URL, key = lambda x:dict_array_URL[x], reverse=True) # 값을 기준으로 정렬\n",
    "for ch in dict_array_URL: # 출력\n",
    "    print(ch)"
   ]
  },
  {
   "cell_type": "markdown",
   "id": "fbdaff32",
   "metadata": {},
   "source": [
    "(7)번 - 제가 코딩한 것으로는 입력한 문자가 해당 html에 없을 경우에는 아예 없는것으로 처리가 됩니다. 대문자와 소문자 구분을 하지 않으면서 검색을 할 수 있는 기능이 추가로 있으면 더 좋을것 같고, 조금이라도 일치하는 글자가 있을 경우에도 먼저 해당 사이트가 나오게끔 설정하는 것도 좋을 것 같다고 생각합니다. "
   ]
  },
  {
   "cell_type": "markdown",
   "id": "b6ac6bd0",
   "metadata": {},
   "source": [
    "우선 과제 3에서 수행했던 코드를 기준으로 코드를 추가하였다. StopWords.txt에 저장되어있는 불용어와 기존 사전에 존재하는 값들과 비교하여 불용어인 키를 전부 삭제해 주는 코드를 작성하였고, 그 값을 with open(폴더,\"wb\")로 파일로 저장해 주었다. 여기에서 하나의 폴더 안에 넣어줘야 하므로 기존에 만들어 뒀던 Assignment4Folder에 넣어주었다. 그리고, 함수로 매개변수를 html주소를 받아오는 형식으로 그 주소를 슬라이싱 해주어 문제에서 제시했던 파일이름으로 저장해 주었다. 이 과정에서 pickle모듈을 사용해 주었다. 이 함수의 리턴값은 사전으로 그 값을 저장해주는 변수를 만들어 검색어를 입력한 뒤, 이 검색어를 불용어 처리해 주고 이 사전들과 모두 비교하여 비교한 수 만큼 정렬을 해주어 그 주소를 출력해 주도록 하였다. 결과값으로 리스트와 주소를 출력해 주었는데, 첫번째 출력물은 입력한 데이터가 어느 주소에 몇개가 있는지 출력해주는 것을 확인해주고 아래 그 숫자로 정렬이 되어있는 것을 확인할 수 있다.\n",
    "\n",
    "-----"
   ]
  },
  {
   "cell_type": "markdown",
   "id": "f3d793d1",
   "metadata": {},
   "source": [
    "### 소감.\n",
    "많이 어려웠다. 2학년이 되면서 지금까지 파일입출력은 항상 마지막쯤에 배워 대충 공부했던 느낌이 있었는데 이번 파이썬은 중간에 나와 과제로 만나 좀 어렵게 느껴진 부분이었다. 많이 힘들었지만 시간을 많이 들여 과제를 수행해 냈다. \n",
    "좀 더 열심히 공부해야 겠다는 생각을 들게 만드는 과제였다. 과제 1~4를 하면서 지금 과제가 매우 어렵게 느껴졌다..\n",
    "\n",
    "-----"
   ]
  },
  {
   "cell_type": "code",
   "execution_count": null,
   "id": "c0b98255",
   "metadata": {},
   "outputs": [],
   "source": []
  }
 ],
 "metadata": {
  "kernelspec": {
   "display_name": "Python 3 (ipykernel)",
   "language": "python",
   "name": "python3"
  },
  "language_info": {
   "codemirror_mode": {
    "name": "ipython",
    "version": 3
   },
   "file_extension": ".py",
   "mimetype": "text/x-python",
   "name": "python",
   "nbconvert_exporter": "python",
   "pygments_lexer": "ipython3",
   "version": "3.8.11"
  }
 },
 "nbformat": 4,
 "nbformat_minor": 5
}
