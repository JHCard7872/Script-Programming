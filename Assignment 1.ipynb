{
 "cells": [
  {
   "cell_type": "markdown",
   "id": "5284eb40",
   "metadata": {},
   "source": [
    "# <center> Assignment 1</center>\n",
    "\n",
    "### 2020136082 오준혁"
   ]
  },
  {
   "cell_type": "markdown",
   "id": "67bdbe33",
   "metadata": {},
   "source": [
    "### 1. a=\"Hello Python\" 문자열을 Slicing과 연결 연산자 (+)를 사용하여 \"Python Hello\"로 변경하시오."
   ]
  },
  {
   "cell_type": "code",
   "execution_count": 1,
   "id": "a5d1d30e",
   "metadata": {},
   "outputs": [
    {
     "name": "stdout",
     "output_type": "stream",
     "text": [
      "Python Hello\n"
     ]
    }
   ],
   "source": [
    "a = \"Hello Python\"\n",
    "a = a[6:12] + a[5] + a[0:5]\n",
    "print(a)"
   ]
  },
  {
   "cell_type": "markdown",
   "id": "d4fc3a1c",
   "metadata": {},
   "source": [
    "- a에 \"Hello Python\"을 저장해 준 뒤, slice를 이용하여 a[6:12]는 Python을, a[5]는 띄어쓰기를, a[0:5]는 Hello를 의미하므로 이것들을 전부 더해주어 a에 저장하도록 만들어 주었다. a를 print 해주면 Python Hello가 출력되는 것을 확인할 수 있다.\n",
    "\n",
    "----------"
   ]
  },
  {
   "cell_type": "markdown",
   "id": "891401aa",
   "metadata": {},
   "source": [
    "### 2. b=\"Hello Python World\" 문자열을 Slicing과 연결 연산자 (+)를 사용하여 \"World Python Hello\"로 변경하시오."
   ]
  },
  {
   "cell_type": "code",
   "execution_count": 2,
   "id": "480ca00e",
   "metadata": {},
   "outputs": [
    {
     "name": "stdout",
     "output_type": "stream",
     "text": [
      "World Python Hello \n"
     ]
    }
   ],
   "source": [
    "b = \"Hello Python World\"\n",
    "b = b[13:18]+b[5:13]+b[0:6]\n",
    "print(b)"
   ]
  },
  {
   "cell_type": "markdown",
   "id": "0be8fd51",
   "metadata": {},
   "source": [
    "- b에 \"Hello Python World를 저장해 준 뒤, slice를 이용하여 b[13:18]은 \"World\", b[5:13]은 \" Python \", b[0:6]에는 \"Hello\"이기 때문에 이들을 전부 더해주어 b에 \"World Python Hello\"가 저장되도록 해주었다. b를 print 해주면 \"World Python Hello\"가 출력되는 것을 확인할 수 있다.\n",
    "\n",
    "---"
   ]
  },
  {
   "cell_type": "markdown",
   "id": "7f344c8d",
   "metadata": {},
   "source": [
    "### 3. c=\"Hello\"를 \"olleH\"로 변경하시오"
   ]
  },
  {
   "cell_type": "code",
   "execution_count": 3,
   "id": "cca9a6c9",
   "metadata": {},
   "outputs": [
    {
     "name": "stdout",
     "output_type": "stream",
     "text": [
      "olleH\n"
     ]
    }
   ],
   "source": [
    "c = \"Hello\"\n",
    "c = c[::-1]\n",
    "print(c)"
   ]
  },
  {
   "cell_type": "markdown",
   "id": "b9f17efd",
   "metadata": {},
   "source": [
    "- c에 \"Hello\"를 저장해 준 뒤, slice를 이용하여 -1칸마다 변경이 되게끔 하여 거꾸로 저장이 되게끔 해주었다. 그 결과값으로 \"olleH\"가 출력되는 것을 확인할 수 있다.\n",
    "\n",
    "---"
   ]
  },
  {
   "cell_type": "markdown",
   "id": "b1a6f966",
   "metadata": {},
   "source": [
    "### 4. s=\"python\"에 대해 다음 문제를 풀어보시오."
   ]
  },
  {
   "cell_type": "markdown",
   "id": "d98daab1",
   "metadata": {},
   "source": [
    "####  A. s[0], s[0][0], s[0][0][0]은 각각 어떤 값이 나오는지 확인하고 그 이유를 나름대로 설명해 보시오."
   ]
  },
  {
   "cell_type": "code",
   "execution_count": 5,
   "id": "6d3d4ca6",
   "metadata": {},
   "outputs": [
    {
     "name": "stdout",
     "output_type": "stream",
     "text": [
      "p\n",
      "p\n",
      "p\n"
     ]
    }
   ],
   "source": [
    "s = \"python\"\n",
    "print(s[0])\n",
    "print(s[0][0])\n",
    "print(s[0][0][0])"
   ]
  },
  {
   "cell_type": "markdown",
   "id": "e62f321e",
   "metadata": {},
   "source": [
    "- 전부 첫번째의 값 \"p\"가 출력이 되고 있다. s[0]은 s의 문자열중 첫번째의 값이고 s[0][0]은 s[0]의 첫번째값 이므로 \"p\"값이 나오게 되고 s[0][0][0]도 마찬가지로 \"p\"값이 나오게 된다."
   ]
  },
  {
   "cell_type": "markdown",
   "id": "8a266d1b",
   "metadata": {},
   "source": [
    "#### B. s[-100], s[100]은 값이 나오는지 에러가 나오는지 확인하고 그 결과에 대한 이유를 나름대로 설명해 보시오."
   ]
  },
  {
   "cell_type": "code",
   "execution_count": 6,
   "id": "547acc5a",
   "metadata": {},
   "outputs": [
    {
     "ename": "IndexError",
     "evalue": "string index out of range",
     "output_type": "error",
     "traceback": [
      "\u001b[1;31m---------------------------------------------------------------------------\u001b[0m",
      "\u001b[1;31mIndexError\u001b[0m                                Traceback (most recent call last)",
      "\u001b[1;32m~\\AppData\\Local\\Temp/ipykernel_25156/2192372631.py\u001b[0m in \u001b[0;36m<module>\u001b[1;34m\u001b[0m\n\u001b[1;32m----> 1\u001b[1;33m \u001b[0mprint\u001b[0m\u001b[1;33m(\u001b[0m\u001b[0ms\u001b[0m\u001b[1;33m[\u001b[0m\u001b[1;33m-\u001b[0m\u001b[1;36m100\u001b[0m\u001b[1;33m]\u001b[0m\u001b[1;33m)\u001b[0m\u001b[1;33m\u001b[0m\u001b[1;33m\u001b[0m\u001b[0m\n\u001b[0m",
      "\u001b[1;31mIndexError\u001b[0m: string index out of range"
     ]
    }
   ],
   "source": [
    "print(s[-100])"
   ]
  },
  {
   "cell_type": "code",
   "execution_count": 7,
   "id": "a58705eb",
   "metadata": {},
   "outputs": [
    {
     "ename": "IndexError",
     "evalue": "string index out of range",
     "output_type": "error",
     "traceback": [
      "\u001b[1;31m---------------------------------------------------------------------------\u001b[0m",
      "\u001b[1;31mIndexError\u001b[0m                                Traceback (most recent call last)",
      "\u001b[1;32m~\\AppData\\Local\\Temp/ipykernel_25156/1720804627.py\u001b[0m in \u001b[0;36m<module>\u001b[1;34m\u001b[0m\n\u001b[1;32m----> 1\u001b[1;33m \u001b[0mprint\u001b[0m\u001b[1;33m(\u001b[0m\u001b[0ms\u001b[0m\u001b[1;33m[\u001b[0m\u001b[1;36m100\u001b[0m\u001b[1;33m]\u001b[0m\u001b[1;33m)\u001b[0m\u001b[1;33m\u001b[0m\u001b[1;33m\u001b[0m\u001b[0m\n\u001b[0m",
      "\u001b[1;31mIndexError\u001b[0m: string index out of range"
     ]
    }
   ],
   "source": [
    "print(s[100])"
   ]
  },
  {
   "cell_type": "markdown",
   "id": "67980909",
   "metadata": {},
   "source": [
    "- s[-100]과 s[100]은 전부 에러가 뜨고 있다. s의 문자열의 크기가 100이 되지 않아 에러가 뜨고 있다."
   ]
  },
  {
   "cell_type": "markdown",
   "id": "1cafcad9",
   "metadata": {},
   "source": [
    "#### C. s[-100, 100]은 값이 나오는지 에러가 나오는지 확인하고 그 결과에 대한 이유를 나름대로 설명해 보시오."
   ]
  },
  {
   "cell_type": "code",
   "execution_count": 8,
   "id": "1db7d5f2",
   "metadata": {},
   "outputs": [
    {
     "ename": "TypeError",
     "evalue": "string indices must be integers",
     "output_type": "error",
     "traceback": [
      "\u001b[1;31m---------------------------------------------------------------------------\u001b[0m",
      "\u001b[1;31mTypeError\u001b[0m                                 Traceback (most recent call last)",
      "\u001b[1;32m~\\AppData\\Local\\Temp/ipykernel_25156/1365633358.py\u001b[0m in \u001b[0;36m<module>\u001b[1;34m\u001b[0m\n\u001b[1;32m----> 1\u001b[1;33m \u001b[0mprint\u001b[0m\u001b[1;33m(\u001b[0m\u001b[0ms\u001b[0m\u001b[1;33m[\u001b[0m\u001b[1;33m-\u001b[0m\u001b[1;36m100\u001b[0m\u001b[1;33m,\u001b[0m \u001b[1;36m100\u001b[0m\u001b[1;33m]\u001b[0m\u001b[1;33m)\u001b[0m\u001b[1;33m\u001b[0m\u001b[1;33m\u001b[0m\u001b[0m\n\u001b[0m",
      "\u001b[1;31mTypeError\u001b[0m: string indices must be integers"
     ]
    }
   ],
   "source": [
    "print(s[-100, 100])"
   ]
  },
  {
   "cell_type": "markdown",
   "id": "a0453205",
   "metadata": {},
   "source": [
    "- s[-100, 100]도 에러가 뜨고 있다. s[-100, 100]은 s문자열의 -100번째 문자 부터 100번째 문자까지의 수를 가리키는데 -100번째와 100번째는 없기 때문에 오류가 생기고 있다."
   ]
  },
  {
   "cell_type": "markdown",
   "id": "c1a485eb",
   "metadata": {},
   "source": [
    "#### D. s[1:-1]의 결과를 확인하고 그 결과에 대한 이유를 정확하게 설명하시오."
   ]
  },
  {
   "cell_type": "code",
   "execution_count": 9,
   "id": "4a567203",
   "metadata": {},
   "outputs": [
    {
     "name": "stdout",
     "output_type": "stream",
     "text": [
      "ytho\n"
     ]
    }
   ],
   "source": [
    "print(s[1:-1])"
   ]
  },
  {
   "cell_type": "markdown",
   "id": "94e63eb7",
   "metadata": {},
   "source": [
    "- s[1:-1]의 의미는 s[1]번째 문자부터 s[-1]번째 문자까지를 가리키는데 s[1] 문자는 y, s[-1] 문자는 n을 가리키므로 ytho가 나오게 된다. 여기에서 s[1:-1]에서 -1부분은 그 부분 전까지를 가리키기 때문에 n은 출력이 되지 않고 o까지만 출력이 된다."
   ]
  },
  {
   "cell_type": "markdown",
   "id": "244e5c7e",
   "metadata": {},
   "source": [
    "* E. s[3:-3]의 결과를 확인하고 그 결과에 대한 이유를 정확하게 설명하시오."
   ]
  },
  {
   "cell_type": "code",
   "execution_count": 10,
   "id": "d4f91019",
   "metadata": {},
   "outputs": [
    {
     "name": "stdout",
     "output_type": "stream",
     "text": [
      "\n"
     ]
    }
   ],
   "source": [
    "print(s[3:-3])"
   ]
  },
  {
   "cell_type": "markdown",
   "id": "ef1487f9",
   "metadata": {},
   "source": [
    "- 결과가 아무것도 나오지 않는것으로 확인이 된다. s[3]은 h, s[-3]은 h로 같기 때문에 아무것도 출력이 되지 않고 있다.\n",
    "\n",
    "---"
   ]
  },
  {
   "cell_type": "markdown",
   "id": "4c8182e2",
   "metadata": {},
   "source": [
    "### 5. for문을 활용하여 1부터 100사이의 홀수를 출력하시오."
   ]
  },
  {
   "cell_type": "code",
   "execution_count": 11,
   "id": "4d4733ce",
   "metadata": {},
   "outputs": [
    {
     "name": "stdout",
     "output_type": "stream",
     "text": [
      "1 3 5 7 9 11 13 15 17 19 21 23 25 27 29 31 33 35 37 39 41 43 45 47 49 51 53 55 57 59 61 63 65 67 69 71 73 75 77 79 81 83 85 87 89 91 93 95 97 99 "
     ]
    }
   ],
   "source": [
    "for odd in range(1,51):\n",
    "    print(odd*2-1, end=\" \")"
   ]
  },
  {
   "cell_type": "markdown",
   "id": "6ecce003",
   "metadata": {},
   "source": [
    "* for문을 사용하여 1부터 100사이의 홀수를 출력하였다. odd의 값을 1부터 51까지 증가하는 것을 반복시킨 뒤, odd의 값에 *2 -1을 해주어 홀수가 나오게끔 해주었다.\n",
    "\n",
    "---"
   ]
  },
  {
   "cell_type": "markdown",
   "id": "1af53bc8",
   "metadata": {},
   "source": [
    "### 6. while문을 활용하여 1부터 100사이의 짝수의 합을 계산하여 출력하시오."
   ]
  },
  {
   "cell_type": "code",
   "execution_count": 12,
   "id": "445e42e0",
   "metadata": {},
   "outputs": [
    {
     "name": "stdout",
     "output_type": "stream",
     "text": [
      "2550\n"
     ]
    }
   ],
   "source": [
    "i=2\n",
    "sum=0\n",
    "\n",
    "while(i<=100):\n",
    "    sum =sum + i\n",
    "    i += 2\n",
    "print(sum)"
   ]
  },
  {
   "cell_type": "markdown",
   "id": "1d68337c",
   "metadata": {},
   "source": [
    "* 짝수의 값 i변수와 저장한 값을 저장해 줄 sum을 준비하고 while문으로 i의 값을 2씩 더해주며, i의 값을 sum에 계속 저장해주어 짝수의 값의 합계를 구하였다.\n",
    "\n",
    "---"
   ]
  },
  {
   "cell_type": "markdown",
   "id": "d698a03c",
   "metadata": {},
   "source": [
    "### 7. 사용자로 부터 임의의 정수를 입력받고, 해당 숫자를 역순으로 출력하는 프로그램을 작성하시오."
   ]
  },
  {
   "cell_type": "code",
   "execution_count": 14,
   "id": "78626563",
   "metadata": {},
   "outputs": [
    {
     "name": "stdout",
     "output_type": "stream",
     "text": [
      "정수를 입력하세요: 3125\n",
      "숫자 역순은 5213 입니다.\n"
     ]
    }
   ],
   "source": [
    "num = input(\"정수를 입력하세요: \")\n",
    "num = num[::-1]\n",
    "print(\"숫자 역순은 \" + num + \" 입니다.\")"
   ]
  },
  {
   "cell_type": "markdown",
   "id": "466799ed",
   "metadata": {},
   "source": [
    "* 숫자를 문자열로 입력받는다. 이 문자열을 [::-1]로 거꾸로 저장시켜 그 값을 출력시켜주었다. \n",
    "\n",
    "---"
   ]
  },
  {
   "cell_type": "markdown",
   "id": "088e2d33",
   "metadata": {},
   "source": [
    "### 8. 사용자로 부터 정수를 입력받아서 1부터 그 사이에 존재하는 소수 (Prime number)를 출력하는 파이썬 프로그램을 작성하시오."
   ]
  },
  {
   "cell_type": "code",
   "execution_count": 16,
   "id": "fb60da0c",
   "metadata": {},
   "outputs": [
    {
     "name": "stdout",
     "output_type": "stream",
     "text": [
      "정수를 입력하세요: 100\n",
      "2 3 5 7 11 13 17 19 23 29 31 37 41 43 47 53 59 61 67 71 73 79 83 89 97 "
     ]
    }
   ],
   "source": [
    "num = int(input(\"정수를 입력하세요: \"))\n",
    "for prime in range(2, num+1):\n",
    "    for result in range(2, prime+1):\n",
    "        if(prime % result == 0):\n",
    "            if(prime == result):\n",
    "                print(prime, end = \" \")\n",
    "                break\n",
    "            else:\n",
    "                break\n"
   ]
  },
  {
   "cell_type": "markdown",
   "id": "51ccd522",
   "metadata": {},
   "source": [
    "- 2부터 입력받은 수까지 포함시켜야 하기 때문에 입력받은수 + 1 까지 반복을 시켜준다. 1부터 그 사이의 값의 소수들을 출력시켜야 하므로 2중 for문을 사용하였다. 2부터 입력받은수 num까지 반복을 하면서 prime값이 소수일 경우 2부터 prime값 까지의 수들이 나눠지면 안되기 때문에 그럴경우 바로  break해주어 for문을 나가주어 다음 수를 진행시켜주도록 하였다.\n",
    "\n",
    "---"
   ]
  },
  {
   "cell_type": "markdown",
   "id": "58b8efa1",
   "metadata": {},
   "source": [
    "### 9. Kevin과 Stuart는 게임을 한다. 규칙은 아래와 같다.\n",
    "\n",
    "- 두 플레이어에게 같은 string, S, 가 주어진다.\n",
    "- 두 플레이어는 string S의 문자를 사용하여 substring을 만들어야 한다(중복 가능).\n",
    "- Stuart는 자음으로 시작하는 단어를 만들어야 한다.\n",
    "- Kevin은 모음으로 시작하는 단어를 만들어야 한다.\n",
    "- 게임은 두 플레이어가 만들 수 있는 모든 단어를 만들었을 때 끝난다.\n",
    "- 점수 계산 : substring 1개당 +1 점을 획득한다.\n",
    "- 사용자로 부터 대문자로 이루어진 string S를 입력받고, 승자와 그의 점수를 출력하는 프로그램을 작성하시오."
   ]
  },
  {
   "cell_type": "code",
   "execution_count": 17,
   "id": "87de2531",
   "metadata": {},
   "outputs": [
    {
     "name": "stdout",
     "output_type": "stream",
     "text": [
      "string S를 입력하세요: BANANA\n",
      "승자: Stuart 점수:  12\n"
     ]
    }
   ],
   "source": [
    "string_s = input(\"string S를 입력하세요: \")\n",
    "j = 0\n",
    "Stuart = 0\n",
    "Kevin = 0\n",
    "for compare in string_s:\n",
    "    if(compare == 'A' or compare == 'E' or compare == 'I' or compare == 'O' or compare == 'U'):\n",
    "        Kevin = len(string_s)-j + Kevin\n",
    "        j+=1\n",
    "    else:\n",
    "        Stuart = len(string_s)-j + Stuart\n",
    "        j+=1\n",
    "if(Stuart > Kevin):\n",
    "    print(\"승자: Stuart 점수: \", Stuart)\n",
    "elif(Kevin > Stuart):\n",
    "    print(\"승자: Kevin 점수: \", Kevin)\n",
    "else:\n",
    "    print(\"무승부\")"
   ]
  },
  {
   "cell_type": "markdown",
   "id": "e5c9ac68",
   "metadata": {},
   "source": [
    "- j는 for문이 진행되는 동안 몇번 진행되었는지 계산하기 위한 변수이다. 받은 문자열 중 모음인 단어의 j의 값을 구해 모음을 이용해 구해야 하는 Kevin에 그 수를 더해준다. 만들 수 있는 단어는 받은 문자의 길이 - 모음의 몇번째인지를 구하는 것으로 계산하였고, 이러한 식을 이용해 Stuart의 값도 구해주었다. 그렇게 해서 나온 점수를 서로 비교하여 누가 승자인지 출력하도록 해주었다.\n",
    "\n",
    "---"
   ]
  },
  {
   "cell_type": "markdown",
   "id": "ca02b19f",
   "metadata": {},
   "source": [
    "### 10. 알파벳 소문자만으로 이루어진 string, S, 가 주어지고 아래 2가지 연산을 수행할 수 있다.\n",
    "- 추가 : string S의 끝에 알파벳 소문자 하나를 추가한다.\n",
    "- 삭제 : string S의 마지막 문자 하나를 삭제한다. empty string에서 삭제 연산을 수행한 결과는 empty string이다.\n",
    "#### 두 개의 string, s와 t, 그리고 정수 k가 주어질 때, 정확히 k번의 연산을 통해 s를 t로 바꿀 수 있는지 판단하는 함수를 작성하시오."
   ]
  },
  {
   "cell_type": "code",
   "execution_count": 18,
   "id": "7bf89f6a",
   "metadata": {},
   "outputs": [
    {
     "name": "stdout",
     "output_type": "stream",
     "text": [
      "1. s = 'hackerhappy'    t = 'hackerrank'    k = 9    => Yes\n",
      "1. s = 'aba'    t = 'aba'    k = 7    => Yes\n",
      "1. s = 'ashley'    t = 'ash'    k = 2    => No\n"
     ]
    }
   ],
   "source": [
    "def appendDelete(s, t, k):\n",
    "\n",
    "    modify=0\n",
    "\n",
    "    for compareNum in range(0, len(t)):\n",
    "        if(s[compareNum] != t[compareNum]):\n",
    "            break\n",
    "    if(t == s[0:len(t)]):\n",
    "        compareNum=len(t)\n",
    "    modify = len(t)+len(s)-2*compareNum\n",
    "    if (modify <= k):\n",
    "        return 'Yes'\n",
    "    else:\n",
    "        return 'No'\n",
    "    \n",
    "print(\"1. s = 'hackerhappy'    t = 'hackerrank'    k = 9    => \" + appendDelete(\"hackerhappy\", \"hackerrank\", 9))\n",
    "print(\"1. s = 'aba'    t = 'aba'    k = 7    => \" + appendDelete(\"aba\", \"aba\", 7))\n",
    "print(\"1. s = 'ashley'    t = 'ash'    k = 2    => \" + appendDelete(\"ashley\", \"ash\", 2))"
   ]
  },
  {
   "cell_type": "markdown",
   "id": "341ead5e",
   "metadata": {},
   "source": [
    "- t의 문자열과 s의 문자열중 다른 부분 한곳이라도 있으면 그 문자부터 s에 있는 끝까지의 문자를 지우고 t의 문자를 넣어줘야 하므로 다른 문자가 있을때 그 문자가 몇번째에 있는지 확인을 하고 t의 문자열의 길이, s의 문자열의 길이를 더한뒤, 다른 문자가 몇번째인지 구한 수를 2배해서 빼주면 그게 최소로 t로 바꿀 수 있는 경우의 수 이다. 하지만, s문자에서 삭제만 되어있는 t의 문자의 경우에는 삭제된 경우만 구하면 되기 때문에 if문으로 같을때는 compareNum이 len(t)가 되도록 해주었다.\n",
    "\n",
    "---"
   ]
  },
  {
   "cell_type": "markdown",
   "id": "a796d886",
   "metadata": {},
   "source": [
    "### 소감"
   ]
  },
  {
   "cell_type": "markdown",
   "id": "2ce40609",
   "metadata": {},
   "source": [
    "파이썬을 이번 강의를 들으면서 처음으로 접하는 시간을 가졌습니다. 파이썬을 공부하는 사람들이 많아지면서 나도 파이썬을 공부해보고 싶다는 생각으로 이 강의를 신청하게 되었는데, C언어를 하다가 파이썬을 해서 그런지 익숙하지 않은 문법들이 많았습니다. C언어에는 있는 문법이 파이썬에서는 다른방식으로 쓰이는 경우가 많아 더 힘들었던것 같았습니다. 하지만, 과제를 해결하면서 파이썬에 익숙해지고 있는데, C언어보다는 확실하게 파이썬이 편리하다는 생각이 들었습니다. 10번까지 큰 어려움 없이 해결을 했지만, 익숙함의 차이로 조금 오래걸린것 빼고는 괜찮았다고 생각했습니다. \n",
    "과제를 수행하는데 있어서 어려웠던 점은 코딩 말고 다른 부분이 있었습니다. 주피터 노트북입니다. 주피터 노트북을 사용하는데 뭔가 웹사이트? 를 꾸미는 느낌이 들어 좀 더 마음에 들게끔 꾸미려는 생각이 들어 이것 저것 찾아보면서 하느라 조금 오래 걸렸습니다. 글자가 가운데정렬을 하게끔 해보고, 오른쪽 정렬을 시도해보려고 오랜 시간을 들였지만, 주피터 노트북은 가운데 정렬만 지원해준다는 것을 보고 조금 허탈했습니다. 그래도 주피터 노트북에 대해 공부할 수 있는 시간을 가지게 되어 좋았다고 생각했습니다. 파이썬. 열심히 강의 따라가겠습니다!\n",
    "\n",
    "---"
   ]
  },
  {
   "cell_type": "code",
   "execution_count": null,
   "id": "f8ecbbbe",
   "metadata": {},
   "outputs": [],
   "source": []
  }
 ],
 "metadata": {
  "kernelspec": {
   "display_name": "Python 3 (ipykernel)",
   "language": "python",
   "name": "python3"
  },
  "language_info": {
   "codemirror_mode": {
    "name": "ipython",
    "version": 3
   },
   "file_extension": ".py",
   "mimetype": "text/x-python",
   "name": "python",
   "nbconvert_exporter": "python",
   "pygments_lexer": "ipython3",
   "version": "3.8.11"
  }
 },
 "nbformat": 4,
 "nbformat_minor": 5
}
