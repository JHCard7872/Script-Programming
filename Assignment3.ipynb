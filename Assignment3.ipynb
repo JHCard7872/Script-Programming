{
 "cells": [
  {
   "cell_type": "markdown",
   "id": "fdfe78cd",
   "metadata": {},
   "source": [
    "# <center> Assignment 3</center>\n",
    "\n",
    "### 2020136082 오준혁"
   ]
  },
  {
   "cell_type": "markdown",
   "id": "df07eec6",
   "metadata": {},
   "source": [
    "### 1. L=[1, 2, 3, 4, 5]일 때 다음 각 문장을 수행한 후의 결과를 보고 납득할 만한 이유를 설명하시오."
   ]
  },
  {
   "cell_type": "markdown",
   "id": "ee0b8e61",
   "metadata": {},
   "source": [
    "- 1) L[1:3] = [100]\n"
   ]
  },
  {
   "cell_type": "code",
   "execution_count": 1,
   "id": "04946cf4",
   "metadata": {},
   "outputs": [
    {
     "name": "stdout",
     "output_type": "stream",
     "text": [
      "[1, 100, 4, 5]\n"
     ]
    }
   ],
   "source": [
    "L = [1,2,3,4,5]\n",
    "L[1:3] = [100]\n",
    "print(L)"
   ]
  },
  {
   "cell_type": "markdown",
   "id": "1bca51a0",
   "metadata": {},
   "source": [
    "리스트 L의 1,2번째의 값을 100으로 바꿔주는 것으로 1, 100, 4, 5가 저장된다."
   ]
  },
  {
   "cell_type": "markdown",
   "id": "1a8fd04c",
   "metadata": {},
   "source": [
    "- 2) L[1:3] = [(100)] "
   ]
  },
  {
   "cell_type": "code",
   "execution_count": 2,
   "id": "d28b3c5a",
   "metadata": {},
   "outputs": [
    {
     "name": "stdout",
     "output_type": "stream",
     "text": [
      "[1, 100, 4, 5]\n"
     ]
    }
   ],
   "source": [
    "L = [1,2,3,4,5]\n",
    "L[1:3] = [(100)]\n",
    "print(L)"
   ]
  },
  {
   "cell_type": "markdown",
   "id": "65713261",
   "metadata": {},
   "source": [
    "(100)은 int형으로 처리된다. 따라서 int형 100을 L의 1:3자리에 넣어주는 것으로 위의 결과와 똑같이 나오게 된다."
   ]
  },
  {
   "cell_type": "markdown",
   "id": "9aa70dc9",
   "metadata": {},
   "source": [
    "- 3) L[1:3] = 100"
   ]
  },
  {
   "cell_type": "code",
   "execution_count": 4,
   "id": "e34ae3ae",
   "metadata": {},
   "outputs": [
    {
     "ename": "TypeError",
     "evalue": "can only assign an iterable",
     "output_type": "error",
     "traceback": [
      "\u001b[1;31m---------------------------------------------------------------------------\u001b[0m",
      "\u001b[1;31mTypeError\u001b[0m                                 Traceback (most recent call last)",
      "\u001b[1;32m~\\AppData\\Local\\Temp/ipykernel_6140/2064958285.py\u001b[0m in \u001b[0;36m<module>\u001b[1;34m\u001b[0m\n\u001b[0;32m      1\u001b[0m \u001b[0mL\u001b[0m \u001b[1;33m=\u001b[0m \u001b[1;33m[\u001b[0m\u001b[1;36m1\u001b[0m\u001b[1;33m,\u001b[0m\u001b[1;36m2\u001b[0m\u001b[1;33m,\u001b[0m\u001b[1;36m3\u001b[0m\u001b[1;33m,\u001b[0m\u001b[1;36m4\u001b[0m\u001b[1;33m,\u001b[0m\u001b[1;36m5\u001b[0m\u001b[1;33m]\u001b[0m\u001b[1;33m\u001b[0m\u001b[1;33m\u001b[0m\u001b[0m\n\u001b[1;32m----> 2\u001b[1;33m \u001b[0mL\u001b[0m\u001b[1;33m[\u001b[0m\u001b[1;36m1\u001b[0m\u001b[1;33m:\u001b[0m\u001b[1;36m3\u001b[0m\u001b[1;33m]\u001b[0m \u001b[1;33m=\u001b[0m \u001b[1;36m100\u001b[0m\u001b[1;33m\u001b[0m\u001b[1;33m\u001b[0m\u001b[0m\n\u001b[0m\u001b[0;32m      3\u001b[0m \u001b[0mprint\u001b[0m\u001b[1;33m(\u001b[0m\u001b[0mL\u001b[0m\u001b[1;33m)\u001b[0m\u001b[1;33m\u001b[0m\u001b[1;33m\u001b[0m\u001b[0m\n",
      "\u001b[1;31mTypeError\u001b[0m: can only assign an iterable"
     ]
    }
   ],
   "source": [
    "L = [1,2,3,4,5]\n",
    "L[1:3] = 100\n",
    "print(L)"
   ]
  },
  {
   "cell_type": "markdown",
   "id": "bb99978d",
   "metadata": {},
   "source": [
    "리스트 L의 1:3번째 수들을 리스트가 아닌 그냥 숫자로 바꾸는 것은 기존의 1,4,5에 해당하는 숫자들을 무시하는 것이 되므로 오류가 생기게 된다."
   ]
  },
  {
   "cell_type": "markdown",
   "id": "246badb0",
   "metadata": {},
   "source": [
    "- 4) L[1:3] = (100)"
   ]
  },
  {
   "cell_type": "code",
   "execution_count": 5,
   "id": "b77e6c23",
   "metadata": {},
   "outputs": [
    {
     "ename": "TypeError",
     "evalue": "can only assign an iterable",
     "output_type": "error",
     "traceback": [
      "\u001b[1;31m---------------------------------------------------------------------------\u001b[0m",
      "\u001b[1;31mTypeError\u001b[0m                                 Traceback (most recent call last)",
      "\u001b[1;32m~\\AppData\\Local\\Temp/ipykernel_6140/2489338341.py\u001b[0m in \u001b[0;36m<module>\u001b[1;34m\u001b[0m\n\u001b[0;32m      1\u001b[0m \u001b[0mL\u001b[0m \u001b[1;33m=\u001b[0m \u001b[1;33m[\u001b[0m\u001b[1;36m1\u001b[0m\u001b[1;33m,\u001b[0m\u001b[1;36m2\u001b[0m\u001b[1;33m,\u001b[0m\u001b[1;36m3\u001b[0m\u001b[1;33m,\u001b[0m\u001b[1;36m4\u001b[0m\u001b[1;33m,\u001b[0m\u001b[1;36m5\u001b[0m\u001b[1;33m]\u001b[0m\u001b[1;33m\u001b[0m\u001b[1;33m\u001b[0m\u001b[0m\n\u001b[1;32m----> 2\u001b[1;33m \u001b[0mL\u001b[0m\u001b[1;33m[\u001b[0m\u001b[1;36m1\u001b[0m\u001b[1;33m:\u001b[0m\u001b[1;36m3\u001b[0m\u001b[1;33m]\u001b[0m \u001b[1;33m=\u001b[0m \u001b[1;33m(\u001b[0m\u001b[1;36m100\u001b[0m\u001b[1;33m)\u001b[0m\u001b[1;33m\u001b[0m\u001b[1;33m\u001b[0m\u001b[0m\n\u001b[0m\u001b[0;32m      3\u001b[0m \u001b[0mprint\u001b[0m\u001b[1;33m(\u001b[0m\u001b[0mL\u001b[0m\u001b[1;33m)\u001b[0m\u001b[1;33m\u001b[0m\u001b[1;33m\u001b[0m\u001b[0m\n",
      "\u001b[1;31mTypeError\u001b[0m: can only assign an iterable"
     ]
    }
   ],
   "source": [
    "L = [1,2,3,4,5]\n",
    "L[1:3] = (100)\n",
    "print(L)"
   ]
  },
  {
   "cell_type": "markdown",
   "id": "0959133a",
   "metadata": {},
   "source": [
    "(100)은 튜플형이 아닌 정수 100의 형태로 위의 이유와 동일하다."
   ]
  },
  {
   "cell_type": "markdown",
   "id": "a2b63a71",
   "metadata": {},
   "source": [
    "- 5) L[1:3] = (100, 101, 102)"
   ]
  },
  {
   "cell_type": "code",
   "execution_count": 7,
   "id": "a804db11",
   "metadata": {},
   "outputs": [
    {
     "name": "stdout",
     "output_type": "stream",
     "text": [
      "[1, 100, 101, 102, 4, 5]\n"
     ]
    }
   ],
   "source": [
    "L = [1,2,3,4,5]\n",
    "L[1:3] = (100, 101, 102)\n",
    "print(L)"
   ]
  },
  {
   "cell_type": "markdown",
   "id": "8f6060fa",
   "metadata": {},
   "source": [
    "튜플형을 넣으면 자동으로 리스트 형태로 변하면서 리스트의 요소들로 사용된다."
   ]
  },
  {
   "cell_type": "markdown",
   "id": "4ac76616",
   "metadata": {},
   "source": [
    "- 6) L[1:3] = [100, 101, 102]"
   ]
  },
  {
   "cell_type": "code",
   "execution_count": 8,
   "id": "62608b7c",
   "metadata": {},
   "outputs": [
    {
     "name": "stdout",
     "output_type": "stream",
     "text": [
      "[1, 100, 101, 102, 4, 5]\n"
     ]
    }
   ],
   "source": [
    "L = [1,2,3,4,5]\n",
    "L[1:3] = [100, 101, 102]\n",
    "print(L)"
   ]
  },
  {
   "cell_type": "markdown",
   "id": "49163a6d",
   "metadata": {},
   "source": [
    "리스트 안에 리스트를 넣으면 나열된다. 위의 튜플 형태와 비슷하다."
   ]
  },
  {
   "cell_type": "markdown",
   "id": "cbd8e5e7",
   "metadata": {},
   "source": [
    "- 7) L[1:3] = [(100, 101, 102)]"
   ]
  },
  {
   "cell_type": "code",
   "execution_count": 9,
   "id": "4cd203af",
   "metadata": {},
   "outputs": [
    {
     "name": "stdout",
     "output_type": "stream",
     "text": [
      "[1, (100, 101, 102), 4, 5]\n"
     ]
    }
   ],
   "source": [
    "L = [1,2,3,4,5]\n",
    "L[1:3] = [(100, 101, 102)]\n",
    "print(L)"
   ]
  },
  {
   "cell_type": "markdown",
   "id": "9a8bdc06",
   "metadata": {},
   "source": [
    "여기에는 L[1:3]부분에 리스트(100,101,102)라는 하나의 튜플을 한 요소로 가지게 되는 것으로 튜플 자체를 리스트 안에 넣어주어 위와 같은 결과가 나오게 된다."
   ]
  },
  {
   "cell_type": "markdown",
   "id": "b542800f",
   "metadata": {},
   "source": [
    "- 8) L[1:3] = [[100, 101, 102]]"
   ]
  },
  {
   "cell_type": "code",
   "execution_count": 10,
   "id": "d275d5b8",
   "metadata": {},
   "outputs": [
    {
     "name": "stdout",
     "output_type": "stream",
     "text": [
      "[1, [100, 101, 102], 4, 5]\n"
     ]
    }
   ],
   "source": [
    "L = [1,2,3,4,5]\n",
    "L[1:3] = [[100, 101, 102]]\n",
    "print(L)"
   ]
  },
  {
   "cell_type": "markdown",
   "id": "9d1e397f",
   "metadata": {},
   "source": [
    "위와 동일한 이유로 리스트 [100. 101. 102]가 하나의 요소로 생각하여 위와 같은 결과가 나오게 된다."
   ]
  },
  {
   "cell_type": "markdown",
   "id": "50e93914",
   "metadata": {},
   "source": [
    "### 2. 문자열 S = 'Hello World and Python'에 대해 다음 요구사항에 대한 Python 코드를 제시하시오.\n",
    "- 1) 단어의 순서가 역순으로 되어진 문자열 ('Python and World Hello')을 만들고\n",
    "- 2) 1)의 결과 문자열에 대해 메소드 split과 join을 이용하여 공백을 모두 없엔 문자열 'PythonandWorldHello'을 만드시오."
   ]
  },
  {
   "cell_type": "code",
   "execution_count": 11,
   "id": "b717d898",
   "metadata": {},
   "outputs": [
    {
     "name": "stdout",
     "output_type": "stream",
     "text": [
      "역순 : Python and World Hello\n",
      "공백을 없앤 문자열 : PythonandWorldHello\n"
     ]
    }
   ],
   "source": [
    "s = 'Hello World and Python'\n",
    "list = s.split()\n",
    "list.reverse() # 단어 역순\n",
    "s = ' '.join(list) # 띄어쓰면서 문자열 s에 저장\n",
    "print('역순 :', s) # 역순 출력\n",
    "list = s.split()  \n",
    "s = ''.join(list) # 띄어쓰기 없이 저장\n",
    "print('공백을 없앤 문자열 :', s) # 출력"
   ]
  },
  {
   "cell_type": "markdown",
   "id": "6289268a",
   "metadata": {},
   "source": [
    "단어 역순인 문자열을 만들기 위해 s를 split하여 list에 저장을 한 뒤, list에 저장을 해주고, 이 리스트에 reverse()메소드를 호출하여 역순으로 저장한다. 이후 문자열에 join메소드를 사용해주어 띄어쓰기와 함께 문자열 s에 저장해주고, 그 문자열을 다시 split하고 띄어쓰기 없이 저장을 해주었다.\n",
    "\n",
    "-----"
   ]
  },
  {
   "cell_type": "markdown",
   "id": "cb150509",
   "metadata": {},
   "source": [
    "### 3. 다음 코드를 보고 물음에 답하시오.\n",
    "\n",
    "    a = [1, 2, 3]  \n",
    "    b = a * 3  \n",
    "    c = [a] * 3  \n",
    "    print(b)  \n",
    "    print(c)\n",
    "- 1) 위 코드를 수행한 이후 다음 코드를 수행한 후 b와 c의 내용을 확인하시오.  \n",
    "        a[0]=0\n",
    "- 2) b와 c 객체의 차이는 무엇인가?"
   ]
  },
  {
   "cell_type": "code",
   "execution_count": 12,
   "id": "a4f8ba0f",
   "metadata": {},
   "outputs": [
    {
     "name": "stdout",
     "output_type": "stream",
     "text": [
      "[1, 2, 3, 1, 2, 3, 1, 2, 3]\n",
      "[[1, 2, 3], [1, 2, 3], [1, 2, 3]]\n",
      "[1, 2, 3, 1, 2, 3, 1, 2, 3]\n",
      "[[0, 2, 3], [0, 2, 3], [0, 2, 3]]\n"
     ]
    }
   ],
   "source": [
    "a = [1, 2, 3]  \n",
    "b = a * 3  \n",
    "c = [a] * 3  \n",
    "print(b)  \n",
    "print(c)\n",
    "a[0]=0\n",
    "print(b)\n",
    "print(c)"
   ]
  },
  {
   "cell_type": "markdown",
   "id": "cbda3435",
   "metadata": {},
   "source": [
    "b는 같은 리스트를 3번씩 나오도록 리스트에 저장을 해준 것으로 a와 연관된 것이 없지만 c는 객체 a를 3번 나오도록 하는 것으로 리스트 안에 a객체를 포함시키는 것이다. >> c -> [a, a, a]와 같은 느낌으로 a가 변하면 c의 a의 값도 변하게 된다.\n",
    "\n",
    "-----"
   ]
  },
  {
   "cell_type": "markdown",
   "id": "1edca1e2",
   "metadata": {},
   "source": [
    "### 4. 다음 문자열을 ':'을 기준으로 분리하여 리스트로 만들고 각 문자열의 좌우 공백을 제거하시오 (즉, 문자열 S에서 l을 만들어라)\n",
    "    s = '  first star   :   second star   :    third star  '  \n",
    "    l = ['first star', 'second star', 'third star']\n",
    "- 1) for ~ in 문을 이용한 코드를 작성하시오.\n",
    "- 2) 리스트 내포(list comprehension)를 이용한 코드를 작성하시오."
   ]
  },
  {
   "cell_type": "code",
   "execution_count": 13,
   "id": "f3dae125",
   "metadata": {},
   "outputs": [
    {
     "name": "stdout",
     "output_type": "stream",
     "text": [
      "s =    first star   :   second star   :    third star  \n",
      "l =  ['first star', 'second star', 'third star']\n"
     ]
    }
   ],
   "source": [
    "s = '  first star   :   second star   :    third star  '  \n",
    "print('s = ', s)\n",
    "l = [ch.strip() for ch in s.split(':') ] # ch를 :를 기준으로 리스트로 만들고, 값들의 좌우 공백 제거한 값 리스트에 저장\n",
    "print('l = ', l)"
   ]
  },
  {
   "cell_type": "markdown",
   "id": "823d6454",
   "metadata": {},
   "source": [
    "l에 s.split으로 자름 리스트 값을 ch에 주면서 ch의 좌 우 공백을 제거해준 str값을 리스트에 저장해주도록 리스트 내포를 이용하여 코드를 작성하였다.\n",
    "\n",
    "-----"
   ]
  },
  {
   "cell_type": "markdown",
   "id": "e35ce006",
   "metadata": {},
   "source": [
    "### 5. 다음과 같이 0보다 큰 정수 리스트 변수 list를 인자로 받는 함수 addall(list)와 addallodd(list)를 for ~ in 리터널과 리스트 내포 방식으로 각각 제시하시오.\n",
    "- [참고 1]: 리스트 내포 방식으로 addall() 및 addallodd()함수를 만들 때엔 리스트 내포에 의해 생성된 리스트 결과에 대해 내장 함수를 사용하는 방식을 고려해보시오 (주의: 리스트 내포 방식의 addall() 및 addallodd() 함수의 몸체는 단 1줄로 작성되어야 한다.)\n",
    "- [참고 2]: sum() 등의 내장함수 사용 가능함\n",
    "- 1) addall(list) 함수 (리스트 내의 모든 정수를 더하는 함수로서 해답으로는 for ~ in 리터럴과 리스트 내포 방식으로 각각 제시하시오.)\n",
    "    - \\>>> addall([1])   \n",
    "        1\n",
    "    - \\>>> addall([1, 2, 3, 4, 5, 6, 7, 8, 9])  \n",
    "        45 "
   ]
  },
  {
   "cell_type": "code",
   "execution_count": 14,
   "id": "19201d7f",
   "metadata": {},
   "outputs": [
    {
     "name": "stdout",
     "output_type": "stream",
     "text": [
      "1\n",
      "45\n"
     ]
    }
   ],
   "source": [
    "def addall(list): # for ~ in 리터럴 방식\n",
    "    sum = 0\n",
    "    for ch in list:\n",
    "        sum += ch\n",
    "    print(sum)\n",
    "addall([1])\n",
    "addall([1, 2, 3, 4, 5, 6, 7, 8, 9])"
   ]
  },
  {
   "cell_type": "markdown",
   "id": "9ea9b3e4",
   "metadata": {},
   "source": [
    "sum변수에 값들을 전부 저장해주어 그 값을 출력해 주었다."
   ]
  },
  {
   "cell_type": "code",
   "execution_count": 15,
   "id": "b21b68db",
   "metadata": {},
   "outputs": [
    {
     "name": "stdout",
     "output_type": "stream",
     "text": [
      "1\n",
      "45\n"
     ]
    }
   ],
   "source": [
    "def addall(list): # 리스트 내포 방식\n",
    "    print(sum(ch for ch in list)) # ch값들 전부 더해준 값 출력\n",
    "addall([1])\n",
    "addall([1, 2, 3, 4, 5, 6, 7, 8, 9])"
   ]
  },
  {
   "cell_type": "markdown",
   "id": "3717ed7b",
   "metadata": {},
   "source": [
    "리스트에 있는 값들을 리스트 내포 방식으로 ch에 전달해 주어 그 ch값들의 합을(sum()내장 함수 사용)출력해 주었다."
   ]
  },
  {
   "cell_type": "markdown",
   "id": "434ce349",
   "metadata": {},
   "source": [
    "- 2) addallodd(list) 함수 (리스트내의 모든 홀수를 더하는 함수로서 해답으로는 for ~ in 리터럴과 리스트 내포 방식으로 각각 제시하시오.)\n",
    "    - \\>>> addallodd([1])  \n",
    "        1\n",
    "    - \\>>> addallodd([1, 2, 3, 4, 5, 6, 7, 8, 9])  \n",
    "        25"
   ]
  },
  {
   "cell_type": "code",
   "execution_count": 16,
   "id": "164400f0",
   "metadata": {},
   "outputs": [
    {
     "name": "stdout",
     "output_type": "stream",
     "text": [
      "1\n",
      "25\n"
     ]
    }
   ],
   "source": [
    "def addallodd(list): # for ~ in 리터럴 방식\n",
    "    sum = 0\n",
    "    for ch in list:\n",
    "        if(ch%2==1): # 조건문으로 홀수 일때 sum에 값 더해줌\n",
    "            sum += ch\n",
    "    print(sum)\n",
    "addallodd([1])\n",
    "addallodd([1, 2, 3, 4, 5, 6, 7, 8, 9])"
   ]
  },
  {
   "cell_type": "markdown",
   "id": "d01ac4de",
   "metadata": {},
   "source": [
    "for문 안에 조건문을 추가해 주어 홀수 일때 sum값에 값을 다 더해주고 그 값을 출력해주도록 하였다."
   ]
  },
  {
   "cell_type": "code",
   "execution_count": 17,
   "id": "09f88288",
   "metadata": {},
   "outputs": [
    {
     "name": "stdout",
     "output_type": "stream",
     "text": [
      "1\n",
      "25\n"
     ]
    }
   ],
   "source": [
    "def addallodd(list): # 리스트 내포 방식\n",
    "    print(sum(ch for ch in list if(ch% 2 == 1))) # 조건 추가(홀수 일때 값 더해줌)\n",
    "addallodd([1])\n",
    "addallodd([1, 2, 3, 4, 5, 6, 7, 8, 9])"
   ]
  },
  {
   "cell_type": "markdown",
   "id": "9132a238",
   "metadata": {},
   "source": [
    "ch값이 홀수 인 값들만 리스트에 저장해 주고, sum()메소드를 이용하여 값들의 합을 출력해 주도록 하였다.\n",
    "\n",
    "-----"
   ]
  },
  {
   "cell_type": "markdown",
   "id": "89bbdc36",
   "metadata": {},
   "source": [
    "### 6. 다음 코드를 보고 물음에 답하시오.\n",
    "  \n",
    "- 1) 위 코드의 수행 결과 d와 e는 항상 같은 결과를 출력한다. 그 이유는 무엇인가?\n",
    "- 2) 위 코드의 수행 결과 마지막 f의 내용은 다음과 같다. 이 때 'high' 키의 값 내용 중 500이 출력된 이유와 'low' 키의 값 내용 중 [1, 2, 3]이 출력된 이유를 설명하시오 ([hint]: shallow copy 관점에서 설명하시오.)\n",
    "{'high': [4, 500, 6], 'low': [1, 2, 3]}"
   ]
  },
  {
   "cell_type": "code",
   "execution_count": 18,
   "id": "9469fe15",
   "metadata": {},
   "outputs": [
    {
     "name": "stdout",
     "output_type": "stream",
     "text": [
      "{'low': [1, 2, 3], 'high': [4, 5, 6]}\n",
      "{'low': [1, 2, 3], 'high': [4, 5, 6]}\n",
      "{'low': [1, 2, 3], 'high': [4, 5, 6]}\n",
      "\n",
      "{'low': [10, 20, 30], 'high': [4, 500, 6]}\n",
      "{'low': [10, 20, 30], 'high': [4, 500, 6]}\n",
      "{'low': [1, 2, 3], 'high': [4, 500, 6]}\n"
     ]
    }
   ],
   "source": [
    "L1 = [1, 2, 3] # 위 문장이 가리키는 코드\n",
    "L2 = [4, 5, 6]\n",
    "d = {'low':L1, 'high':L2}\n",
    "e = d\n",
    "f = d.copy()\n",
    "print(d)\n",
    "print(e)\n",
    "print(f)\n",
    "print()\n",
    "d['low'] = [10, 20, 30]\n",
    "d['high'][1] = 500\n",
    "print(d)\n",
    "print(e)\n",
    "print(f)"
   ]
  },
  {
   "cell_type": "markdown",
   "id": "5d720070",
   "metadata": {},
   "source": [
    "1) d와 e는 d가 가리키는 레퍼런스값과 e가 가리키는 레퍼런스 값이 같아 d또는 e의 값이 변경이 되면 d의 값과 e의 값 둘다 바뀌게 된다. 그림으로 표현하면 d-->ㅁㅁㅁㅁ<--e(같은 곳을 가리킴)\n",
    "\n",
    "2) f는 d의 값을 얕은복사 한 것으로 low값이 가리키는 레퍼런스와 high값이 가리키는 레퍼런스가 d의 low, high가 가리키는 레퍼런스 값과 동일하기 때문에 d['high'][1]=500을 했을때 동일한 값이 출력이 되고, d['low']=[10,20,30]을 할 때에는 d의 low가 가리키는 레퍼런스 값이 변경되면서 f의 low가 가리키는 레퍼런스 값과 달라져 원래의 [1,2,3]을 출력하게 된다.\n",
    "\n",
    "-----"
   ]
  },
  {
   "cell_type": "markdown",
   "id": "bb62e9c3",
   "metadata": {},
   "source": [
    "### 7. 사전 d = {'one':1, 'two':2, 'three':3, 'four':4, 'five':5}가 주어졌을 때 다음 요구사항에 맞는 코드를 제시하시오\n",
    "- [참고]: d.keys(), d.values()를 통해 리스트를 얻어낸 후 리스트가 지니고 있는 sort(cmp=None, key=None, reverse=False)함수를 활용하시오.\n",
    "- 1) 키의 알파벳 오름차순 순서대로 튜플 (키, 값)을 차례대로 출력하시오.\n",
    "- 2) 키의 알파벳 내림차순 순서대로 튜플 (키, 값)을 차례대로 출력하시오.\n",
    "- 3) 값의 오름차순 순서대로 튜플 (키, 값)을 차례대로 출력하시오.\n",
    "- 4) 값의 내림차순 순서대로 튜플 (키, 값)을 차례대로 출력하시오."
   ]
  },
  {
   "cell_type": "code",
   "execution_count": 19,
   "id": "2082be92",
   "metadata": {},
   "outputs": [
    {
     "name": "stdout",
     "output_type": "stream",
     "text": [
      "('one', 1) ('two', 2) ('three', 3) ('four', 4) ('five', 5) \n",
      "\n",
      "('two', 2) ('three', 3) ('one', 1) ('four', 4) ('five', 5) \n",
      "\n",
      "('one', 1) ('two', 2) ('three', 3) ('four', 4) ('five', 5) \n",
      "\n",
      "('five', 5) ('four', 4) ('three', 3) ('two', 2) ('one', 1) "
     ]
    }
   ],
   "source": [
    "d = {'one':1, 'two':2, 'three':3, 'four':4, 'five':5}\n",
    "d_key = [ch for ch in d.keys()] # key값 리스트로 저장\n",
    "d_value = [ch for ch in d.values()]  # value값 리스트로 저장\n",
    "for ch in d_key: # 키를 기준으로 오름차순 튜플 차례로 출력\n",
    "    print((ch, d[ch]), end = \" \")\n",
    "print('\\n')\n",
    "d_key.sort(reverse = True) # 내림차순\n",
    "for ch in d_key: # 키를 기준으로 내림차순 튜플 차례로 출력\n",
    "    print((ch, d[ch]), end = \" \") \n",
    "print('\\n')\n",
    "d_key = [ch for ch in d.keys()]\n",
    "for ch in d_value: # 값을 기준으로 오름차순 튜플 차례로 출력\n",
    "    print((d_key[ch-1], ch), end=\" \")\n",
    "print('\\n')\n",
    "d_value.sort(reverse = True) # 내림차순\n",
    "for ch in d_value: # 값을 기준으로 내림차순 튜플 차례로 출력\n",
    "    print((d_key[ch-1], ch), end=\" \")"
   ]
  },
  {
   "cell_type": "markdown",
   "id": "03e64283",
   "metadata": {},
   "source": [
    "d의 값과 키를 리스트로 저장해 준 뒤, 키를 기준으로 정렬 할 때에는 d의 키값을 찾아 그 키의 값을 찾아 튜플로 출력시켜주면 되지만, 값을 기준으로 정렬 할 때에는 키 값을 따로 찾는 방법이 없어 숫자 순서로 출력해주도록 하였다. 내림차순으로 정렬 할 때에는 sort(reverse = True)를 사용하였다.\n",
    "\n",
    "-----"
   ]
  },
  {
   "cell_type": "markdown",
   "id": "2d8c908f",
   "metadata": {},
   "source": [
    "### 8. 다음 문제를 정확히 읽고 적합한 코딩을 제시하시오.\n",
    "- length(X)를 다음과 같이 정의한다 : 10진수로 표현된 X의 자릿수\n",
    "- Strange라는 숫자를 아래과 같이 정의한다.\n",
    "    - 음이 아닌 정수 중 자릿수가 1인 모든 숫자는 Strange이다.\n",
    "    - length(X) > 1 인 숫자 X 는 다음 2가지를 만족하면 Strange이다.\n",
    "        - X는 length(X)로 정확히 나누어 떨어진다.\n",
    "        - X / length(X) 가 strnage이다.\n",
    "\n",
    "- 이 문제에서 숫자 하나가 주어질 때, 이 숫자가 Strange인지 판단하는 함수 isStrange(num)을 작성하시오.\n",
    "- isStrange(num) 함수가 재귀적인 함수가 되도록 작성해 보세요."
   ]
  },
  {
   "cell_type": "code",
   "execution_count": 20,
   "id": "6c413a50",
   "metadata": {},
   "outputs": [
    {
     "name": "stdout",
     "output_type": "stream",
     "text": [
      "1. num = 0                     =>    True\n",
      "2. num = 56                    =>    True\n",
      "3. num = 100                   =>    False\n",
      "4. num = 7882602506492313600   =>    True\n",
      "5. num = 6012302549522098651   =>    False\n"
     ]
    }
   ],
   "source": [
    "def length(X): # length메소드 생성\n",
    "    count = 0\n",
    "    while(True):\n",
    "        if(X//10 == 0):\n",
    "            count += 1\n",
    "            break\n",
    "        else:\n",
    "            X = X//10\n",
    "            count += 1\n",
    "    return count\n",
    "\n",
    "def isStrange(num): # isStrange메소드\n",
    "    if(num<0): # 음수일 경우 false\n",
    "        return False\n",
    "    if(length(num)==1): # 한자리 수 일경우 true반환\n",
    "        return True\n",
    "    if(num%length(num)==0): # 나누어 떨어질 경우 true반환\n",
    "        return True \n",
    "    if(length(num/length(num))!=1): # 한자리수로 남을때까지 나누어 떨어지지 않으면\n",
    "        return isStrange(num/length(num)) # 재귀함수로 반복\n",
    "    return False # 위의 조건 전부 만족하지 못할 경우 false반환\n",
    "print('1. num = 0                     =>   ', isStrange(0))\n",
    "print('2. num = 56                    =>   ', isStrange(56))\n",
    "print('3. num = 100                   =>   ', isStrange(100))\n",
    "print('4. num = 7882602506492313600   =>   ', isStrange(7882602506492313600)) \n",
    "print('5. num = 6012302549522098651   =>   ', isStrange(6012302549522098651)) "
   ]
  },
  {
   "cell_type": "markdown",
   "id": "9d25be85",
   "metadata": {},
   "source": [
    "문제 이해가 잘 되지는 않았지만.. 일단 재귀함수를 사용하여 isStrange를 표현하였다. X/length(X)가 재귀함수로 처리되는 것이라 생각을 해서 이 부분을 재귀함수를 처리해 주었는데 이게 실수로 재귀함수 처리하는 것인지 정수로 처리하는 것인지 몰라 테스트 케이스가 정상적으로 나오는 실수로 재귀함수를 처리해 주었다. 재귀함수를 처리하는중에 한자리 숫자가 반복이 되면 무조건 나누어 떨어지기 때문에 1보다 클 경우에만(length(X)가) 재귀함수가 되도록 해주었고, 조건이 전부 해당하지 않을 경우에 false를 반환해주도록 하였다.\n",
    "\n",
    "-----"
   ]
  },
  {
   "cell_type": "markdown",
   "id": "75530cd2",
   "metadata": {},
   "source": [
    "### 9. 다음 문제를 정확히 읽고 적합한 코딩을 제시하시오.\n",
    "\n",
    "- 1번 그룹, 2번 그룹, ... n번 그룹으로 번호가 매겨진 총 n개의 그룹이 존재하고, ith 그룹에는 임의의 팀원 수 ai 명이 있다.\n",
    "하나의 버스 정류장이 있고, 버스는 오직 한 대만 운영한다. 버스는 버스 정류장에 도착하고 모든 그룹은 버스를 통해 여행하길 원한다.\n",
    "하지만, 같은 그룹에 속한 팀원들은 분리되기를 원치 않는다. 그래서 그룹의 모든 팀원이 탈 수 있을 때 에만 그 그룹은 버스에 탑승한다.\n",
    "또한, 이들은 그룹의 번호순으로 여행을 하길 원한다. 예를 들어, 3번 그룹은 1번 그룹과 2번 그룹이 여행을 한 뒤에 버스를 탈 수 있거나, 1번 그룹과 2번 그룹이 이미 버스에 탑승한 상태에 있을 때 동시에 버스를 탈 수 있다.\n",
    "마지막으로, 버스는 빈 좌석이 없을 때 에만 여행을 떠난다.\n",
    "\n",
    "- 이 문제에서 각 그룹의 팀원 수가 리스트로 주어질 때, 가능한 모든 버스의 사이즈 x(x명의 사람들이 동시에 탈 수 있음)를 반환하는 함수 solve(a) 를 작성하시오.\n",
    "- [주의] 반드시 계산 복잡도를 최대한 낮추세요. 아래 예시 3번을 실행했을 때 결과가 바로 나타날 수 있도록!!"
   ]
  },
  {
   "cell_type": "code",
   "execution_count": 21,
   "id": "2dd5ae4b",
   "metadata": {},
   "outputs": [
    {
     "name": "stdout",
     "output_type": "stream",
     "text": [
      "a = [1, 2, 1, 1, 1, 2, 1, 3]  =>   [3, 4, 6, 12]\n",
      "a = [1, 1, 1, 1]              =>   [1, 2, 4]\n",
      "a = [9999] * 10**5            =>  \n",
      " [9999, 19998, 39996, 49995, 79992, 99990, 159984, 199980, 249975, 319968, 399960, 499950, 799920, 999900, 1249875, 1599840, 1999800, 2499750, 3999600, 4999500, 6249375, 7999200, 9999000, 12498750, 19998000, 24997500, 31246875, 39996000, 49995000, 62493750, 99990000, 124987500, 199980000, 249975000, 499950000, 999900000]\n"
     ]
    }
   ],
   "source": [
    "import functools\n",
    "def solve(a):\n",
    "    sumA = functools.reduce(lambda x, y: x + y, a) # 람다함수를 이용한 합계 구하기\n",
    "    startNum = max(a)                               # a리스트 중 가장 큰 값부터 시작하기 위해 초기값 a의 최대로 시작.\n",
    "    nextInitIndex = 0                               # 계산 복잡도를 낮추기 위한 변수(사용처는 다음 코드로 설명)\n",
    "    final = []                                      # 저장해 줄 리스트\n",
    "    while(startNum<=sumA//2):                      # 결과값이 sumA//2보다 클 경우는 sumA자신 밖에 없으므로 sum//2보다 큰 경우는 반복 X\n",
    "        checkInsert = True                         # 결과값으로 넣어줘야 하는지 확인하기 위한 변수\n",
    "        startIndex = 0                             # 리스트 슬라이스를 위한 0으로의 초기값\n",
    "        nextIndex = nextInitIndex                  # 슬라이스의 초기값 nextInitindex\n",
    "        multipleNum = 2             # 결과값의 배수는 무조건 가능 하므로 배수의 값이 sumA로 나누어 떨어지면 결과값에 포함하기 위한 변수\n",
    "        if not startNum in final and sumA % startNum == 0: # 이미 final리스트에 있는 경우와 sumA의 약수가 아닌경우 제외\n",
    "            while(nextIndex<len(a)): \n",
    "                if sum(a[startIndex:nextIndex])<startNum: # 슬라이스한 값이 startNum보다 작으면 nextIndex +1\n",
    "                    if nextIndex<len(a):\n",
    "                        nextIndex += 1\n",
    "                    else:\n",
    "                        checkInsert = False\n",
    "                        break\n",
    "                elif sum(a[startIndex:nextIndex])==startNum: # 슬라이스한 값이 startNum과 같으면 다시 반복, 끝까지 닿으면 -\n",
    "                    if startIndex == 0:                      # - checkInsert값 True로 반복문 종료\n",
    "                        nextInitIndex = nextIndex            # nextIndex 증가 >> startNum이 정해진 뒤, 슬라이스 값 정할 때 사용됨.\n",
    "                    startIndex = nextIndex\n",
    "                    if nextIndex == len(a):\n",
    "                        break\n",
    "                elif sum(a[startIndex:nextIndex])>startNum: # 슬라이스한 값이 startNum보다 작은 값이 생기면 불가능한 결과값\n",
    "                    checkInsert = False                     # 불가능하므로 False로 반환\n",
    "                    break\n",
    "            if checkInsert == True:                         # 가능한 값이면 그 값의 배수가 되는지 확인(sumA의 약수가 되는지로 확인)\n",
    "                mulValue = startNum\n",
    "                while(mulValue<=sumA//2):\n",
    "                    if sumA % mulValue == 0 and not mulValue in final:\n",
    "                        final.append(mulValue)               # 가능한 값이면 final리스트에 추가\n",
    "                    multipleNum += 1\n",
    "                    mulValue = startNum*multipleNum\n",
    "        startNum = startNum + a[nextInitIndex]              # startNum의 다음수는 처음 시작한 값의 다음 리스트를 더한 값으로 시작\n",
    "    final.append(sumA)\n",
    "    final.sort()\n",
    "    return final                                           # 반환\n",
    "a = [1, 2, 1, 1, 1, 2, 1, 3]\n",
    "print('a = [1, 2, 1, 1, 1, 2, 1, 3]  =>  ',solve(a))\n",
    "a = [1, 1, 1, 1]\n",
    "print('a = [1, 1, 1, 1]              =>  ', solve(a))\n",
    "a = [9999] * 10**5\n",
    "print('a = [9999] * 10**5            =>  \\n', solve(a))"
   ]
  },
  {
   "cell_type": "markdown",
   "id": "9346b191",
   "metadata": {},
   "source": [
    ".. 너무.. 어려운,, 문제,,였다,, 일단 설명을 해보면 결과값으로 가능한 수는 리스트의 모든 수를 더한 값의 약수만 가능, 그리고 리스트의 모든 수 중 제일 큰 요소부터 결과값으로 가능, 그리고 처음부터 순서대로 버스에 타야 하므로 처음부터 전부 더해주면서 가능한 값인지 확인해야 한다. 또, 결과값으로 가능한 가장 작은 수로 가능한 리스트들의 값과 그 다음값을 더한 값이 결과값으로 될 수 있음. 이 모든 경우의 수를 조건으로 넣으면 된다. 그리고 결과값의 배수는 리스트의 모든 수를 더한 값의 약수라면 무조건 가능하므로 이를 이용하면 계산 복잡도를 더욱 줄일 수 있다. 하지만 이 부분을 이용하려면 이미 리스트에 존재하는 값을 다시 확인 할 경우가 생기기 때문에 이를 확인하는 조건문이 필요하다. 이 모든 것을 포함시키면 계산 복잡도를 줄일 수 있다.\n",
    "\n",
    "-----"
   ]
  },
  {
   "cell_type": "markdown",
   "id": "859f0a16",
   "metadata": {},
   "source": [
    "### [Incremental Project 문제]\n",
    "#### 이전 Assignment 2의 마지막 문제는 웹 URL로 지정된 웹페이지를 문자열로 가져와 모든 HTML 태그를 제외한 순수 텍스트를 얻어내고 그 안에 존재하는 단어를 추출하고 단어들의 총 개수를 출력하는 프로그램을 작성하는 것이었다. 이번에는 그 마지막 숙제를 그대로 확장하여 웹 URL로 지정된 웹페이지 내 순수 텍스트 안에 존재하는 각 단어들에 대해 다음 요구사항 대로 출력하는 프로그램을 작성하시오.\n",
    "- 요구사항 1. CSS와 Javascript 내용도 모두 제거하시오 (이전 숙제에서 이미 제외하였다면 본 요구사항 무시)\n",
    "\n",
    "    - 즉, 아래와 같은 코드는  및 태그 뿐만 아니라 그 안의 내용 전체를 모두 제거\n",
    "\n",
    "- 요구사항 2. 순수 텍스트 안에 존재하는 단어들에 대해 string 모듈을 활용하여 모든 punctuation (구두문자)를 완벽히 제거하시오.\n",
    "    - 예: ['world!', ':', '+hello+', '~python$$$', '=', 'world'] ---> ['world', 'hello', 'python', 'world']\n",
    "    - 모든 punctuation을 확인하는 방법은 아래와 같다.\n",
    "        import string\n",
    "        print(string.punctuation)\n",
    "- 요구사항 3. 만약 punctuation (구두문자)를 제거한 이후 공백으로 판명되는 단어들은 해당 단어 리스트에서 제거하시오.\n",
    "    - 예: ['컴퓨터공학부!', '---?', '%지향~', '...'] ---> ['컴퓨터공학부', '', '지향', ''] ---> ['컴퓨터공학부', '지향']\n",
    "\n",
    "- 요구사항 3. 각 단어들의 출현빈도를 사전형태로 저장하여 출력하시오.\n",
    "    - 예: ['world', 'hello', 'python', 'world', '컴퓨터공학부', '지향'] ---> {'world': 2, 'hello': 1, 'python': 1, '컴퓨터공학부': 1, '지향': 1}"
   ]
  },
  {
   "cell_type": "code",
   "execution_count": 22,
   "id": "d0c3d31e",
   "metadata": {},
   "outputs": [
    {
     "name": "stdout",
     "output_type": "stream",
     "text": [
      "!\"#$%&'()*+,-./:;<=>?@[\\]^_`{|}~\n"
     ]
    }
   ],
   "source": [
    "import string\n",
    "print(string.punctuation)"
   ]
  },
  {
   "cell_type": "code",
   "execution_count": 23,
   "id": "de943fe2",
   "metadata": {},
   "outputs": [],
   "source": [
    "import requests\n",
    "\n",
    "req = requests.get('http://link.koreatech.ac.kr/lecture/2021/script_programming')\n",
    "\n",
    "source = req.text"
   ]
  },
  {
   "cell_type": "code",
   "execution_count": 24,
   "id": "f42bbe8f",
   "metadata": {},
   "outputs": [
    {
     "name": "stdout",
     "output_type": "stream",
     "text": [
      "{'00': 1, '01': 9, '01일금05일화': 1, '02': 3, '02B': 2, '02일화': 1, '03': 6, '03일금07일화': 2, '04': 6, '04B': 2, '05': 4, '05일금09일화': 1, '06': 2, '07': 2, '08': 4, '08월': 1, '08일': 1, '08일금12일화': 1, '09': 4, '0900': 2, '09월': 5, '1': 5, '10': 3, '100': 1, '10월': 7, '10일': 2, '10일금14일화': 2, '11': 5, '1100': 4, '11월': 6, '12': 4, '12월': 4, '12일금16일화': 1, '13': 4, '1300': 2, '14': 4, '15': 4, '15일금19일화': 1, '16': 2, '17': 1, '17일금': 1, '17일금21일화': 1, '18': 1, '19시': 1, '19일': 1, '19일금23일화': 1, '1분반': 1, '2': 5, '20': 1, '2019': 1, '2020': 4, '2021': 5, '2021년': 5, '20일22일': 1, '21시': 1, '22일': 1, '22일금10월': 1, '23시': 5, '24일': 1, '24일금28일화': 1, '26일금30일화': 1, '26일화': 1, '29일금11월': 1, '2공학관': 1, '2분반': 1, '3': 3, '30': 2, '30분': 1, '31일화': 1, '36': 1, '4': 3, '409호': 1, '423호': 1, '5': 2, '59분': 5, 'About': 2, 'Activity': 2, 'Acts': 1, 'AddisonWesley': 1, 'Album': 2, 'All': 2, 'Alumni': 2, 'Any': 1, 'Areas': 2, 'Asterisks': 1, 'Attendance': 2, 'Awards': 2, 'Bennett': 1, 'Board숙제': 1, 'Books': 1, 'Brian': 1, 'CSE221': 1, 'Classes': 1, 'Click': 4, 'Code': 1, 'Copyright': 2, 'Course': 4, 'Courses': 2, 'CoursesnbspSince': 2, 'CoursesnbspUntil': 2, 'Current': 2, 'Date': 6, 'Dictionary': 1, 'Drobbox': 1, 'Due': 5, 'ELearning': 3, 'ESC': 1, 'Editor': 1, 'Email': 3, 'Evaluation': 1, 'Exam': 1, 'Fall': 2, 'Final': 1, 'Five': 1, 'Github': 1, 'Home': 1, 'Homework': 7, 'I': 3, 'II': 3, 'III': 1, 'Information': 1, 'Intelligent': 2, 'Introduction': 2, 'Invited': 2, 'John': 1, 'Jupyter': 1, 'KOREATECH': 3, 'LINK': 1, 'LINKKOREATECH': 1, 'Lab': 2, 'Laboratory': 3, 'Lecture': 18, 'Lecturer': 1, 'Level': 1, 'Location': 2, 'Logistics': 1, 'Markdown': 5, 'Math': 1, 'Meeting': 1, 'Members': 2, 'Midterm': 1, 'Networks': 2, 'News': 2, 'Next': 1, 'Note': 16, 'Notebook': 1, 'Notes': 1, 'Notice': 1, 'Old': 2, 'Online': 1, 'Overland': 1, 'Papers': 2, 'Partners': 1, 'Patents': 2, 'Prerequisites': 1, 'Professor': 2, 'Programming': 3, 'Projects': 2, 'Publications': 2, 'Pycharm': 1, 'Python': 3, 'Quiz': 1, 'RPN': 1, 'Random과': 1, 'Reference': 1, 'Research': 4, 'Reserved': 2, 'Rights': 2, 'Rm': 1, 'Room': 1, 'STEP': 1, 'Schedule': 1, 'Script': 3, 'Semester': 1, 'Seminar': 2, 'Set': 1, 'Standards': 2, 'StudentsMembers': 2, 'Supercharged': 1, 'Take': 1, 'Talks': 2, 'Tutorial': 1, 'URL': 3, 'URL은': 1, 'URL을': 3, 'Your': 2, 'Zoom': 2, 'a': 1, 'absence': 1, 'absences': 1, 'academic': 1, 'amp': 1, 'and': 3, 'are': 1, 'b': 1, 'based': 1, 'be': 2, 'but': 1, 'cheating': 1, 'class': 2, 'classmates': 1, 'copy': 2, 'copying': 1, 'course': 1, 'dd': 1, 'deduction': 2, 'educational': 1, 'evaluation': 1, 'exam': 4, 'final': 1, 'for': 1, 'from': 1, 'grade': 2, 'homework': 1, 'httpelkoreatechackr': 1, 'httpnbviewerjupyterorg': 2, 'httpnbviewerjupyterorgurlsdldropboxcomst9nmklgjkp7w4okkmeansipynb': 1, 'ie': 1, 'in': 5, 'integrity”': 1, 'intensive': 1, 'ipynb': 3, 'jupyter': 3, 'knowledge': 1, 'koir5660koreatechackr': 1, 'learned': 1, 'm': 1, 'midterm': 1, 'much': 1, 'nbsp': 9, 'nbviewer': 2, 'not': 2, 'notebook': 3, 'of': 6, 'on': 1, 'one': 1, 'or': 1, 'out': 1, 'points': 3, 'process': 1, 'professor': 1, 'relationships': 1, 'result': 3, 'set': 1, 'ten': 1, 'the': 7, 'there': 1, 'this': 2, 'to': 1, 'tolerate': 1, 'trust': 2, 'two': 1, 'undermine': 1, 'violate': 1, 'violations': 1, 'which': 1, 'will': 6, 'y': 1, 'yhhankoreatechackr': 1, 'yoweifkoreatechackr': 1, '–': 4, '‘F’': 2, '“Studentprofessor': 1, '“failure”': 1, '가상환경': 1, '가져오기': 1, '각': 1, '각자': 1, '강의': 10, '것': 1, '게시판': 1, '고급': 4, '고사': 2, '교수': 1, '교재': 2, '구글학술검색': 1, '구매': 1, '그리고': 2, '글쓰기로': 1, '금01A': 1, '금03A': 1, '금요일': 2, '금융': 1, '기간': 1, '기능': 3, '기말': 1, '기본': 1, '기초': 3, '길벗': 1, '까지': 1, '날짜': 1, '내에': 1, '내장': 1, '넘파이': 2, '다루기': 1, '다산정보관': 1, '다음': 1, '대면': 3, '대해': 1, '데이터': 1, '돌아보기': 3, '등록': 3, '따라서': 1, '라인': 2, '람다': 2, '로': 1, '리스트': 4, '마크다운': 1, '매직': 1, '메소드': 3, '메소드와': 1, '명령어': 1, '모듈': 1, '모듈과': 1, '모듈의': 1, '모드': 1, '문법': 1, '문법으로': 1, '문자열': 3, '및': 2, '바이너리': 1, '반드시': 1, '반복문': 1, '방법': 1, '방법을': 1, '버전으로': 1, '범위': 1, '베넷': 1, '변경': 2, '보여지는': 1, '본문에': 1, '브라이언': 1, '사용법': 4, '사용법은': 1, '사용하기': 1, '사용하여': 1, '사이트': 1, '사이트로': 1, '사이트를': 1, '사이트에': 1, '사전': 2, '생성': 2, '생성한': 1, '석사과정': 2, '설명시에': 1, '설정': 1, '설치': 1, '설치하기': 2, '셀': 1, '셀로': 2, '셀추가': 2, '소개': 1, '수': 1, '수업': 5, '수업조교TA': 1, '수치형': 1, '숙제': 4, '숙제를': 1, '숙제별로': 1, '스크립트': 1, '스킬업': 1, '시작하기': 1, '시작하기02': 1, '시작해야': 1, '시험': 1, '실시간': 2, '실시간오프라인': 1, '아래로': 1, '언어의': 1, '얻기': 2, '업로드': 2, '여러': 1, '역': 1, '연구실': 1, '연휴': 1, '예': 3, '예시': 1, '예외': 1, '오버랜드': 1, '오프라인': 2, '오프라인Zoom': 2, '오후': 1, '온라인': 6, '온라인상': 1, '외부': 1, '원서': 1, '위': 1, '위로': 1, '위치': 1, '이해': 1, '익힐': 1, '인정': 1, '인터넷에서': 1, '입력': 1, '입력해야': 1, '입출력': 1, '자료': 3, '자료형과': 1, '자료형의': 4, '자신만의': 1, '자신의': 1, '작성하고': 1, '작성한': 1, '저조인석': 1, '정리': 2, '정밀하게': 1, '제출': 2, '조건문': 1, '존': 1, '주교재': 1, '중간': 1, '지름길': 2, '지우기': 1, '지창훈': 1, '진도': 1, '집합': 1, '참고': 2, '처리': 1, '처음': 1, '첨단기술연구소': 1, '최요한': 1, '추석': 1, '출석': 1, '커맨드': 2, '컴퓨터': 1, '컴퓨터공학부': 1, '코드': 2, '코드를': 1, '코딩을': 1, '콘다': 1, '콘텐츠': 2, '클래스': 1, '클래스와': 1, '클래스의': 1, '텍스트': 1, '텍스트와': 1, '통하여': 1, '튜플': 2, '특징': 2, '파이썬': 16, '파이썬의': 7, '파일': 4, '파일에': 1, '패키지': 5, '평생교육원': 1, '포매팅하기': 1, '포맷팅': 1, '폴더로': 1, '프로그래밍': 1, '프로그래밍2019년': 1, '필수': 1, '학습': 1, '한국기술교육대학교': 3, '한국연구재단': 1, '한연희': 1, '함': 3, '함수': 4, '함수의': 2, '해당': 2, '해야': 1, '화01A': 1, '화03A': 1, '화요일': 2, '확인하고': 1, '환경에서': 1, '활용': 3, '활용과': 3, '후': 2}\n"
     ]
    }
   ],
   "source": [
    "check = True #<>괄호 밖인지 알려주는 변수 # 여기는 과제 2 에서 했던 코드\n",
    "checkCode = True #<style></style> 밖인지 알려주는 변수\n",
    "checkScript = True\n",
    "index = 0 \n",
    "s = ''\n",
    "for ch in source:\n",
    "    if(ch == '<'): #괄호 사이의 값이면 check false로 만들어줌\n",
    "        check = False\n",
    "    if(source[index:index+7] == '<style>'): #<style>이 나오면 false로 만들어줌\n",
    "        checkCode = False\n",
    "    if(source[index:index+7] == '<script'): #<script가 나오면 false로\n",
    "        checkScript = False\n",
    "    if(check and checkCode and checkScript): # style, script, <>사이에 없으면 그 값들을 문자열 s에 저장\n",
    "        s = s + ch\n",
    "    if(ch == '>'): # <>밖이면 true로 만들어줌\n",
    "        check = True\n",
    "    if(source[index:index+8] == '</style>'): # style밖이면 true로 만들어줌\n",
    "        checkCode = True\n",
    "    if(source[index:index+8] == '</script'): # script밖이면 true로 만들어줌\n",
    "        checkScript = True\n",
    "    if(index != len(source)-9): # 인덱스 오류가 뜨지 않게 하기 위함(style 인덱스 확인할때 +8때문)\n",
    "        index = index + 1\n",
    "list_a = s.split() #띄어쓰기 구분하여 문자열 나눠줌\n",
    "###############################################################################################################여기부터 과제\n",
    "for ch in range(len(list_a)): # string.punctuation의 값이 아닌 것만 list_a[ch]에 저장\n",
    "    list_a[ch] = ''.join(x for x in list_a[ch] if x not in string.punctuation)\n",
    "list_a = ' '.join(list_a).split() # 빈 문자열 전부 없애주기\n",
    "list_a.sort() \n",
    "dict_a = {}\n",
    "count = 0\n",
    "for ch in list_a:\n",
    "    if ch in dict_a: # 정렬되어 있으므로 그 키가 이미 존재한다면 그 키의 값에 +1 없다면 새로 생성해서 1로 부여해준다.\n",
    "        dict_a[ch] += 1\n",
    "    else:\n",
    "        dict_a[ch] = 1\n",
    "print(dict_a)"
   ]
  },
  {
   "cell_type": "markdown",
   "id": "5a8ad3d6",
   "metadata": {},
   "source": [
    "특수문자를 제거하기 위해 리스트 내포 방식으로 그 값을 join을 해주어 list_a에 저장해 주었고, 제거된 문자열 중 빈 문자열이 있는 경우도 지워줘야 하므로 list_a의 split()을 해주었다. 그리고 사전을 생성하여 키가 있는겨우에는 키의 값에 +1, 없는 경우 키를 생성해주어 사전에 저장시켜주었다. 교수님께서 저번 과제에 냈던거 하나만 해도 된다 하셔서 하나만 합니다!\n",
    "\n",
    "-----"
   ]
  },
  {
   "cell_type": "markdown",
   "id": "3ad82c11",
   "metadata": {},
   "source": [
    "### 소감."
   ]
  },
  {
   "cell_type": "markdown",
   "id": "2e471e1f",
   "metadata": {},
   "source": [
    "멘탈이.. 갈려나간 과제였다.. 익숙하지 않은 문법들.. 람다 함수와 리스트 내포 방식, 사전과 리스트가 가지고 있는 함수의 이용.. 매우 힘들었던 과제였다. 특히 9번 문제는 나를 화나게 만들었다.. 3의 조건을 제외하고는 결과값이 제대로 나오지만 3을 실행하기만 하면 계속해서 무한루프가 발생하는지 실행이 되지 않았다. 그래도 차근차근 경우의 수를 제거해 나가면서 쓸모없는 계산을 지우는데 성공을 했다. 그 성공의 짜릿함.. 그 맛으로 코딩을 하지..라고 생각을 했다. 이번 과제.. 특히 어려웠지만 해결하여 그 뿌듯함으로 잠을 푹 잘 수 있을 것 같다.\n",
    "\n",
    "-----"
   ]
  },
  {
   "cell_type": "code",
   "execution_count": null,
   "id": "edec8a3f",
   "metadata": {},
   "outputs": [],
   "source": []
  }
 ],
 "metadata": {
  "kernelspec": {
   "display_name": "Python 3 (ipykernel)",
   "language": "python",
   "name": "python3"
  },
  "language_info": {
   "codemirror_mode": {
    "name": "ipython",
    "version": 3
   },
   "file_extension": ".py",
   "mimetype": "text/x-python",
   "name": "python",
   "nbconvert_exporter": "python",
   "pygments_lexer": "ipython3",
   "version": "3.8.11"
  }
 },
 "nbformat": 4,
 "nbformat_minor": 5
}
